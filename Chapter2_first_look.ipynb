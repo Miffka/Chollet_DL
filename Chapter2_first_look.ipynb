{
 "cells": [
  {
   "cell_type": "code",
   "execution_count": 2,
   "metadata": {},
   "outputs": [
    {
     "name": "stderr",
     "output_type": "stream",
     "text": [
      "Using Theano backend.\n"
     ]
    }
   ],
   "source": [
    "''' First model. MNIST '''\n",
    "\n",
    "\n",
    "from keras.datasets import mnist\n",
    "\n",
    "(train_images, train_labels), (test_images, test_labels) = \\\n",
    "        mnist.load_data()"
   ]
  },
  {
   "cell_type": "code",
   "execution_count": 3,
   "metadata": {},
   "outputs": [
    {
     "name": "stdout",
     "output_type": "stream",
     "text": [
      "(60000, 28, 28)\n",
      "60000\n",
      "[5 0 4 ..., 5 6 8]\n"
     ]
    }
   ],
   "source": [
    "print(train_images.shape)\n",
    "print(len(train_labels))\n",
    "print(train_labels)"
   ]
  },
  {
   "cell_type": "code",
   "execution_count": 4,
   "metadata": {},
   "outputs": [
    {
     "name": "stdout",
     "output_type": "stream",
     "text": [
      "(10000, 28, 28)\n",
      "10000\n",
      "[7 2 1 ..., 4 5 6]\n"
     ]
    }
   ],
   "source": [
    "print(test_images.shape)\n",
    "print(len(test_labels))\n",
    "print(test_labels)"
   ]
  },
  {
   "cell_type": "code",
   "execution_count": 5,
   "metadata": {},
   "outputs": [],
   "source": [
    "from keras import models\n",
    "from keras import layers\n",
    "\n",
    "network = models.Sequential()\n",
    "network.add(layers.Dense(512, activation='relu', input_shape=(28*28,)))\n",
    "network.add(layers.Dense(10, activation='softmax'))"
   ]
  },
  {
   "cell_type": "code",
   "execution_count": 6,
   "metadata": {},
   "outputs": [],
   "source": [
    "network.compile(optimizer='rmsprop',\n",
    "               loss='categorical_crossentropy',\n",
    "               metrics=['accuracy'])"
   ]
  },
  {
   "cell_type": "code",
   "execution_count": 7,
   "metadata": {},
   "outputs": [],
   "source": [
    "train_images = train_images.reshape((60000, 28*28))\n",
    "train_images = train_images.astype('float32') / 255\n",
    "\n",
    "test_images = test_images.reshape((10000, 28*28))\n",
    "test_images = test_images.astype('float32') / 255"
   ]
  },
  {
   "cell_type": "code",
   "execution_count": 8,
   "metadata": {},
   "outputs": [],
   "source": [
    "from keras.utils import to_categorical\n",
    "\n",
    "train_labels = to_categorical(train_labels)\n",
    "test_labels = to_categorical(test_labels)"
   ]
  },
  {
   "cell_type": "code",
   "execution_count": 9,
   "metadata": {},
   "outputs": [
    {
     "name": "stdout",
     "output_type": "stream",
     "text": [
      "Epoch 1/5\n",
      "60000/60000 [==============================] - 4s 65us/step - loss: 0.2563 - acc: 0.9265\n",
      "Epoch 2/5\n",
      "60000/60000 [==============================] - 4s 63us/step - loss: 0.1041 - acc: 0.9693\n",
      "Epoch 3/5\n",
      "60000/60000 [==============================] - 4s 71us/step - loss: 0.0685 - acc: 0.9792\n",
      "Epoch 4/5\n",
      "60000/60000 [==============================] - 5s 80us/step - loss: 0.0501 - acc: 0.9852\n",
      "Epoch 5/5\n",
      "60000/60000 [==============================] - 5s 79us/step - loss: 0.0376 - acc: 0.9888\n"
     ]
    },
    {
     "data": {
      "text/plain": [
       "<keras.callbacks.History at 0x1081b6080>"
      ]
     },
     "execution_count": 9,
     "metadata": {},
     "output_type": "execute_result"
    }
   ],
   "source": [
    "network.fit(train_images, train_labels, epochs=5, batch_size=128)"
   ]
  },
  {
   "cell_type": "code",
   "execution_count": 10,
   "metadata": {},
   "outputs": [
    {
     "name": "stdout",
     "output_type": "stream",
     "text": [
      "10000/10000 [==============================] - 0s 26us/step\n",
      "test_acc 0.9795\n"
     ]
    }
   ],
   "source": [
    "test_loss, test_acc = network.evaluate(test_images, test_labels)\n",
    "print('test_acc', test_acc)"
   ]
  },
  {
   "cell_type": "code",
   "execution_count": null,
   "metadata": {},
   "outputs": [],
   "source": []
  },
  {
   "cell_type": "code",
   "execution_count": null,
   "metadata": {},
   "outputs": [],
   "source": [
    "''' Two. Data types for neural networks '''"
   ]
  },
  {
   "cell_type": "code",
   "execution_count": 12,
   "metadata": {},
   "outputs": [
    {
     "name": "stdout",
     "output_type": "stream",
     "text": [
      "12\n",
      "0\n"
     ]
    }
   ],
   "source": [
    "# First type - scalar\n",
    "import numpy as np\n",
    "\n",
    "x = np.array(12)\n",
    "print(x)\n",
    "print(x.ndim)"
   ]
  },
  {
   "cell_type": "code",
   "execution_count": 18,
   "metadata": {},
   "outputs": [
    {
     "name": "stdout",
     "output_type": "stream",
     "text": [
      "[12  3  6 14]\n",
      "1\n",
      "(4,)\n"
     ]
    }
   ],
   "source": [
    "# Second type - vector\n",
    "x = np.array([12, 3, 6, 14])\n",
    "print(x)\n",
    "print(x.ndim)\n",
    "print(x.shape)"
   ]
  },
  {
   "cell_type": "code",
   "execution_count": 14,
   "metadata": {},
   "outputs": [
    {
     "name": "stdout",
     "output_type": "stream",
     "text": [
      "2\n"
     ]
    }
   ],
   "source": [
    "# Third type - matrix\n",
    "x = np.array([[5, 78, 2, 34, 0],\n",
    "             [6, 79, 3, 35, 1],\n",
    "             [7, 80, 4, 36, 2]])\n",
    "print(x.ndim)"
   ]
  },
  {
   "cell_type": "code",
   "execution_count": 17,
   "metadata": {},
   "outputs": [
    {
     "name": "stdout",
     "output_type": "stream",
     "text": [
      "3\n",
      "(3, 3, 5)\n"
     ]
    }
   ],
   "source": [
    "# Fourth type - 3D tensors\n",
    "\n",
    "x = np.array([[[5, 78, 2, 34, 0],\n",
    "               [6, 79, 3, 35, 1],\n",
    "               [7, 80, 4, 36, 2]],\n",
    "              [[5, 78, 2, 34, 0],\n",
    "               [6, 79, 3, 35, 1],\n",
    "               [7, 80, 4, 36, 2]],\n",
    "              [[5, 78, 2, 34, 0],\n",
    "               [6, 79, 3, 35, 1],\n",
    "               [7, 80, 4, 36, 2]]])\n",
    "print(x.ndim)\n",
    "print(x.shape)"
   ]
  },
  {
   "cell_type": "code",
   "execution_count": 21,
   "metadata": {},
   "outputs": [
    {
     "name": "stdout",
     "output_type": "stream",
     "text": [
      "3\n",
      "(60000, 28, 28)\n",
      "uint8\n"
     ]
    }
   ],
   "source": [
    "# Key attributes\n",
    "\n",
    "(train_images, train_labels), (test_images, test_labels) = \\\n",
    "        mnist.load_data()\n",
    "\n",
    "print(train_images.ndim)\n",
    "print(train_images.shape)\n",
    "print(train_images.dtype)"
   ]
  },
  {
   "cell_type": "code",
   "execution_count": 22,
   "metadata": {},
   "outputs": [
    {
     "data": {
      "image/png": "[encoded data removed]",
      "text/plain": [
       "<Figure size 432x288 with 1 Axes>"
      ]
     },
     "metadata": {},
     "output_type": "display_data"
    }
   ],
   "source": [
    "digit = train_images[4]\n",
    "\n",
    "import matplotlib.pyplot as plt\n",
    "plt.imshow(digit, cmap=plt.cm.binary)\n",
    "plt.show()"
   ]
  },
  {
   "cell_type": "code",
   "execution_count": 23,
   "metadata": {},
   "outputs": [
    {
     "name": "stdout",
     "output_type": "stream",
     "text": [
      "(90, 28, 28)\n"
     ]
    }
   ],
   "source": [
    "# Manipulating tensors\n",
    "\n",
    "my_slice = train_images[10:100]\n",
    "print(my_slice.shape)"
   ]
  },
  {
   "cell_type": "code",
   "execution_count": 25,
   "metadata": {},
   "outputs": [
    {
     "data": {
      "text/plain": [
       "(90, 28, 28)"
      ]
     },
     "execution_count": 25,
     "metadata": {},
     "output_type": "execute_result"
    }
   ],
   "source": [
    "my_slice = train_images[10:100,:,:] #equivalent\n",
    "my_slice.shape"
   ]
  },
  {
   "cell_type": "code",
   "execution_count": null,
   "metadata": {},
   "outputs": [],
   "source": []
  },
  {
   "cell_type": "code",
   "execution_count": 26,
   "metadata": {},
   "outputs": [
    {
     "ename": "NameError",
     "evalue": "name 'y' is not defined",
     "output_type": "error",
     "traceback": [
      "\u001b[0;31m---------------------------------------------------------------------------\u001b[0m",
      "\u001b[0;31mNameError\u001b[0m                                 Traceback (most recent call last)",
      "\u001b[0;32m<ipython-input-26-108db2fa7cac>\u001b[0m in \u001b[0;36m<module>\u001b[0;34m()\u001b[0m\n\u001b[1;32m     13\u001b[0m \u001b[0;32mimport\u001b[0m \u001b[0mnumpy\u001b[0m \u001b[0;32mas\u001b[0m \u001b[0mnp\u001b[0m\u001b[0;34m\u001b[0m\u001b[0m\n\u001b[1;32m     14\u001b[0m \u001b[0;34m\u001b[0m\u001b[0m\n\u001b[0;32m---> 15\u001b[0;31m \u001b[0mz\u001b[0m \u001b[0;34m=\u001b[0m \u001b[0mx\u001b[0m \u001b[0;34m+\u001b[0m \u001b[0my\u001b[0m\u001b[0;34m\u001b[0m\u001b[0m\n\u001b[0m\u001b[1;32m     16\u001b[0m \u001b[0mz\u001b[0m \u001b[0;34m=\u001b[0m \u001b[0mnp\u001b[0m\u001b[0;34m.\u001b[0m\u001b[0mmaximum\u001b[0m\u001b[0;34m(\u001b[0m\u001b[0mx\u001b[0m\u001b[0;34m,\u001b[0m \u001b[0;36m0.\u001b[0m\u001b[0;34m)\u001b[0m\u001b[0;34m\u001b[0m\u001b[0m\n",
      "\u001b[0;31mNameError\u001b[0m: name 'y' is not defined"
     ]
    }
   ],
   "source": [
    "''' Three. Tensor operations '''\n",
    "\n",
    "# 1. Element-wise operations\n",
    "\n",
    "def naive_relu(x):\n",
    "    assert len(x.shape) == 2\n",
    "    x = x.copy()\n",
    "    for i in range(x.shape[0]):\n",
    "        for j in range(x.shape[1]):\n",
    "            x[i, j] = max(x[i, j], 0)\n",
    "    return x\n",
    "\n",
    "import numpy as np\n",
    "\n",
    "z = x + y\n",
    "z = np.maximum(x, 0.)"
   ]
  },
  {
   "cell_type": "code",
   "execution_count": 2,
   "metadata": {},
   "outputs": [],
   "source": [
    "# 2. Broadcasting\n",
    "\n",
    "def naive_add_matrix_and_vectors(x, y):\n",
    "    assert len(x.shape) == 2\n",
    "    assert len(y.shape) == 1\n",
    "    assert x.shape[1] == y.shape[0]\n",
    "    \n",
    "    x = x.copy()\n",
    "    for i in range(x.shape[0]):\n",
    "        for j in range(x.shape[1]):\n",
    "            x[i, j] += y[j]\n",
    "    return x"
   ]
  },
  {
   "cell_type": "code",
   "execution_count": 5,
   "metadata": {},
   "outputs": [
    {
     "name": "stdout",
     "output_type": "stream",
     "text": [
      "[[[[  3.52046827e-01   2.79012800e-01   9.83319209e-02   1.53949982e-01\n",
      "      6.22829022e-01]\n",
      "   [  1.86244685e-01   1.81781350e-01   5.89982050e-01   7.44239520e-01\n",
      "      4.88753360e-01]\n",
      "   [  1.13134486e-01   2.71749323e-01   8.68385332e-01   5.15882876e-01\n",
      "      5.41239706e-01]\n",
      "   [  3.19239717e-01   4.87551880e-01   6.94196355e-01   2.65089583e-02\n",
      "      7.97403730e-01]]\n",
      "\n",
      "  [[  1.66915249e-01   7.62877945e-01   7.67579372e-01   9.00625154e-01\n",
      "      2.26245869e-01]\n",
      "   [  2.36211296e-01   9.28522781e-01   2.91533272e-01   6.33863670e-01\n",
      "      4.31810250e-01]\n",
      "   [  7.94778248e-01   7.91502107e-01   4.40259515e-02   4.86845737e-01\n",
      "      2.66899528e-02]\n",
      "   [  3.79636764e-01   7.26879719e-01   9.34081669e-01   2.93978450e-01\n",
      "      9.40648902e-01]]\n",
      "\n",
      "  [[  1.29749347e-01   4.26478440e-01   6.86730323e-01   9.93267996e-01\n",
      "      5.28427004e-01]\n",
      "   [  8.69596271e-01   3.88792227e-01   4.36602246e-01   9.74344609e-02\n",
      "      2.92901225e-02]\n",
      "   [  4.96765562e-01   1.54279855e-01   9.39536249e-01   2.63262470e-01\n",
      "      8.21673048e-02]\n",
      "   [  8.68375797e-01   3.62717032e-02   4.28081843e-01   1.66690360e-01\n",
      "      3.12451532e-02]]]\n",
      "\n",
      "\n",
      " [[[  6.60464350e-01   9.04268964e-01   9.73554571e-01   9.65334915e-02\n",
      "      3.39821964e-01]\n",
      "   [  8.56778728e-01   3.77469586e-01   7.43712037e-02   6.82699205e-01\n",
      "      5.74961527e-01]\n",
      "   [  6.69264716e-01   2.91846001e-01   4.66993675e-01   5.96978071e-01\n",
      "      2.25184534e-01]\n",
      "   [  1.66625565e-01   8.48654486e-01   2.00481883e-01   9.04921740e-02\n",
      "      2.95777165e-02]]\n",
      "\n",
      "  [[  4.02513760e-01   1.82961828e-01   1.75207700e-01   6.86468997e-01\n",
      "      2.34413083e-01]\n",
      "   [  4.59047588e-04   4.60255223e-01   9.39182087e-01   7.35771567e-01\n",
      "      1.73409110e-01]\n",
      "   [  1.28528475e-01   6.42729420e-01   9.35709811e-01   8.45094750e-01\n",
      "      7.85195672e-01]\n",
      "   [  1.26107455e-02   7.95136722e-01   7.46198880e-02   8.83466019e-01\n",
      "      7.75494338e-01]]\n",
      "\n",
      "  [[  9.50489326e-01   9.88417431e-01   7.73030151e-01   9.88530017e-01\n",
      "      4.19117118e-01]\n",
      "   [  3.69506962e-01   6.91530778e-01   5.21053331e-01   7.54238306e-01\n",
      "      8.48890408e-01]\n",
      "   [  2.56988634e-01   6.60688320e-01   8.65598272e-01   7.03495130e-01\n",
      "      3.88814451e-01]\n",
      "   [  3.15004403e-01   3.11190226e-01   1.05411456e-02   4.51386009e-02\n",
      "      9.94037355e-01]]]]\n",
      "[[ 0.71793384  0.49362929  0.8134189   0.13323474  0.45624841]\n",
      " [ 0.81005274  0.624937    0.87621494  0.75355133  0.42091101]\n",
      " [ 0.49331408  0.93441816  0.35670814  0.69363481  0.25606377]\n",
      " [ 0.71302769  0.36501997  0.02719712  0.25459135  0.98278952]]\n",
      "[[[[ 0.71793384  0.49362929  0.8134189   0.15394998  0.62282902]\n",
      "   [ 0.81005274  0.624937    0.87621494  0.75355133  0.48875336]\n",
      "   [ 0.49331408  0.93441816  0.86838533  0.69363481  0.54123971]\n",
      "   [ 0.71302769  0.48755188  0.69419635  0.25459135  0.98278952]]\n",
      "\n",
      "  [[ 0.71793384  0.76287795  0.8134189   0.90062515  0.45624841]\n",
      "   [ 0.81005274  0.92852278  0.87621494  0.75355133  0.43181025]\n",
      "   [ 0.79477825  0.93441816  0.35670814  0.69363481  0.25606377]\n",
      "   [ 0.71302769  0.72687972  0.93408167  0.29397845  0.98278952]]\n",
      "\n",
      "  [[ 0.71793384  0.49362929  0.8134189   0.993268    0.528427  ]\n",
      "   [ 0.86959627  0.624937    0.87621494  0.75355133  0.42091101]\n",
      "   [ 0.49676556  0.93441816  0.93953625  0.69363481  0.25606377]\n",
      "   [ 0.8683758   0.36501997  0.42808184  0.25459135  0.98278952]]]\n",
      "\n",
      "\n",
      " [[[ 0.71793384  0.90426896  0.97355457  0.13323474  0.45624841]\n",
      "   [ 0.85677873  0.624937    0.87621494  0.75355133  0.57496153]\n",
      "   [ 0.66926472  0.93441816  0.46699367  0.69363481  0.25606377]\n",
      "   [ 0.71302769  0.84865449  0.20048188  0.25459135  0.98278952]]\n",
      "\n",
      "  [[ 0.71793384  0.49362929  0.8134189   0.686469    0.45624841]\n",
      "   [ 0.81005274  0.624937    0.93918209  0.75355133  0.42091101]\n",
      "   [ 0.49331408  0.93441816  0.93570981  0.84509475  0.78519567]\n",
      "   [ 0.71302769  0.79513672  0.07461989  0.88346602  0.98278952]]\n",
      "\n",
      "  [[ 0.95048933  0.98841743  0.8134189   0.98853002  0.45624841]\n",
      "   [ 0.81005274  0.69153078  0.87621494  0.75423831  0.84889041]\n",
      "   [ 0.49331408  0.93441816  0.86559827  0.70349513  0.38881445]\n",
      "   [ 0.71302769  0.36501997  0.02719712  0.25459135  0.99403736]]]]\n"
     ]
    }
   ],
   "source": [
    "import numpy as np\n",
    "x = np.random.random((2, 3, 4, 5))\n",
    "print(x)\n",
    "y = np.random.random((4, 5))\n",
    "print(y)\n",
    "\n",
    "z = np.maximum(x, y)\n",
    "print(z)"
   ]
  },
  {
   "cell_type": "code",
   "execution_count": 8,
   "metadata": {},
   "outputs": [],
   "source": [
    "# 3. Tensor dot\n",
    "\n",
    "import numpy as np\n",
    "\n",
    "x = np.random.random(5)\n",
    "y = np.random.random(5)\n",
    "\n",
    "z = np.dot(x, y)\n",
    "\n",
    "def naive_vector_dot(x, y):\n",
    "    assert len(x.shape) == 1\n",
    "    assert len(y.shape) == 1\n",
    "    assert x.shape[0] == y.shape[0]\n",
    "    \n",
    "    z = 0\n",
    "    for i in range(x.shape[0]):\n",
    "        z += x[i] * y[i]\n",
    "    return z\n",
    "\n",
    "def naive_matrix_vector_dot(x, y):\n",
    "    assert len(x.shape) == 2\n",
    "    assert len(y.shape) == 1\n",
    "    assert x.shape[1] == y.shape[0]\n",
    "    \n",
    "    z = np.zeros(x.shape[0])\n",
    "    for i in range(x.shape[0]):\n",
    "        for j in range(x.shape[1]):\n",
    "            z[i] += x[i, j] * y[i]\n",
    "    return z\n",
    "\n",
    "def naive_matrix_dot(x, y):\n",
    "    assert len(x.shape) == 2\n",
    "    assert len(y.shape) == 2\n",
    "    assert x.shape[1] == y.shape[0]\n",
    "    \n",
    "    z = np.zeros((x.shape[0], y.shape[1]))\n",
    "    for i in range(x.shape[0]):\n",
    "        for j in range(y.shape[1]):\n",
    "            row_x = x[i, :]\n",
    "            column_y = y[:, j]\n",
    "            z[i, j] = naive_vector_dot(row_x, column_y)\n",
    "    return z\n"
   ]
  },
  {
   "cell_type": "code",
   "execution_count": 10,
   "metadata": {},
   "outputs": [
    {
     "name": "stdout",
     "output_type": "stream",
     "text": [
      "(3, 2)\n",
      "[[ 0.]\n",
      " [ 1.]\n",
      " [ 2.]\n",
      " [ 3.]\n",
      " [ 4.]\n",
      " [ 5.]]\n",
      "[[ 0.  1.  2.]\n",
      " [ 3.  4.  5.]]\n"
     ]
    }
   ],
   "source": [
    "# 4. Tensor reshaping\n",
    "\n",
    "x = np.array([[0., 1.],\n",
    "              [2., 3.],\n",
    "              [4., 5.]])\n",
    "print(x.shape)\n",
    "x = x.reshape((6, 1))\n",
    "print(x)\n",
    "x = x.reshape((2, 3))\n",
    "print(x)"
   ]
  },
  {
   "cell_type": "code",
   "execution_count": null,
   "metadata": {},
   "outputs": [],
   "source": []
  },
  {
   "cell_type": "code",
   "execution_count": null,
   "metadata": {},
   "outputs": [],
   "source": []
  }
 ],
 "metadata": {
  "kernelspec": {
   "display_name": "Python 3",
   "language": "python",
   "name": "python3"
  },
  "language_info": {
   "codemirror_mode": {
    "name": "ipython",
    "version": 3
   },
   "file_extension": ".py",
   "mimetype": "text/x-python",
   "name": "python",
   "nbconvert_exporter": "python",
   "pygments_lexer": "ipython3",
   "version": "3.6.6"
  }
 },
 "nbformat": 4,
 "nbformat_minor": 2
}
