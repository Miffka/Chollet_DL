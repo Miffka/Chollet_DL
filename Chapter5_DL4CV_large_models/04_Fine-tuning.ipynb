{
 "cells": [
  {
   "cell_type": "markdown",
   "metadata": {},
   "source": [
    "## Fine-tuning\n",
    "\n",
    "Unfreeaing a few of the top layers of a frozen model base used for feature extraction.\n",
    "\n",
    "Steps for fine-tuning: \n",
    "\n",
    "* Add custom network on top of an already-trained base network.\n",
    "* Freeze the base network.\n",
    "* Train the part you added.\n",
    "* Unfreeze some layers in the base network.\n",
    "* Jointly train both these layers and the part you added.\n",
    "\n",
    "Why not fine-tune more layers?\n",
    "\n",
    "* Earlier layers encode more generic, reusable features.\n",
    "* Overfitting."
   ]
  },
  {
   "cell_type": "code",
   "execution_count": 1,
   "metadata": {},
   "outputs": [
    {
     "name": "stderr",
     "output_type": "stream",
     "text": [
      "Using TensorFlow backend.\n"
     ]
    },
    {
     "name": "stdout",
     "output_type": "stream",
     "text": [
      "Downloading data from https://github.com/fchollet/deep-learning-models/releases/download/v0.1/vgg16_weights_tf_dim_ordering_tf_kernels_notop.h5\n",
      "58892288/58889256 [==============================] - 5s 0us/step\n",
      "_________________________________________________________________\n",
      "Layer (type)                 Output Shape              Param #   \n",
      "=================================================================\n",
      "input_1 (InputLayer)         (None, 150, 150, 3)       0         \n",
      "_________________________________________________________________\n",
      "block1_conv1 (Conv2D)        (None, 150, 150, 64)      1792      \n",
      "_________________________________________________________________\n",
      "block1_conv2 (Conv2D)        (None, 150, 150, 64)      36928     \n",
      "_________________________________________________________________\n",
      "block1_pool (MaxPooling2D)   (None, 75, 75, 64)        0         \n",
      "_________________________________________________________________\n",
      "block2_conv1 (Conv2D)        (None, 75, 75, 128)       73856     \n",
      "_________________________________________________________________\n",
      "block2_conv2 (Conv2D)        (None, 75, 75, 128)       147584    \n",
      "_________________________________________________________________\n",
      "block2_pool (MaxPooling2D)   (None, 37, 37, 128)       0         \n",
      "_________________________________________________________________\n",
      "block3_conv1 (Conv2D)        (None, 37, 37, 256)       295168    \n",
      "_________________________________________________________________\n",
      "block3_conv2 (Conv2D)        (None, 37, 37, 256)       590080    \n",
      "_________________________________________________________________\n",
      "block3_conv3 (Conv2D)        (None, 37, 37, 256)       590080    \n",
      "_________________________________________________________________\n",
      "block3_pool (MaxPooling2D)   (None, 18, 18, 256)       0         \n",
      "_________________________________________________________________\n",
      "block4_conv1 (Conv2D)        (None, 18, 18, 512)       1180160   \n",
      "_________________________________________________________________\n",
      "block4_conv2 (Conv2D)        (None, 18, 18, 512)       2359808   \n",
      "_________________________________________________________________\n",
      "block4_conv3 (Conv2D)        (None, 18, 18, 512)       2359808   \n",
      "_________________________________________________________________\n",
      "block4_pool (MaxPooling2D)   (None, 9, 9, 512)         0         \n",
      "_________________________________________________________________\n",
      "block5_conv1 (Conv2D)        (None, 9, 9, 512)         2359808   \n",
      "_________________________________________________________________\n",
      "block5_conv2 (Conv2D)        (None, 9, 9, 512)         2359808   \n",
      "_________________________________________________________________\n",
      "block5_conv3 (Conv2D)        (None, 9, 9, 512)         2359808   \n",
      "_________________________________________________________________\n",
      "block5_pool (MaxPooling2D)   (None, 4, 4, 512)         0         \n",
      "=================================================================\n",
      "Total params: 14,714,688\n",
      "Trainable params: 14,714,688\n",
      "Non-trainable params: 0\n",
      "_________________________________________________________________\n"
     ]
    }
   ],
   "source": [
    "''' Import convolutional base '''\n",
    "\n",
    "from keras.applications import VGG16\n",
    "\n",
    "conv_base = VGG16(weights='imagenet',\n",
    "                  include_top=False,\n",
    "                  input_shape=(150, 150, 3))\n",
    "\n",
    "conv_base.summary()"
   ]
  },
  {
   "cell_type": "code",
   "execution_count": 3,
   "metadata": {},
   "outputs": [],
   "source": [
    "''' Freezing all layers up to a specific one '''\n",
    "\n",
    "# First - find out the name of the first trainable layer.\n",
    "\n",
    "# Here - 'block5_conv1'\n",
    "\n",
    "conv_base.trainable = True\n",
    "\n",
    "set_trainable = False\n",
    "for layer in conv_base.layers:\n",
    "    if layer.name == 'block5_conv1':\n",
    "        set_trainable = True\n",
    "    if set_trainable:\n",
    "        layer.trainable = True\n",
    "    else:\n",
    "        layer.trainable = False"
   ]
  },
  {
   "cell_type": "code",
   "execution_count": 4,
   "metadata": {},
   "outputs": [
    {
     "name": "stdout",
     "output_type": "stream",
     "text": [
      "_________________________________________________________________\n",
      "Layer (type)                 Output Shape              Param #   \n",
      "=================================================================\n",
      "vgg16 (Model)                (None, 4, 4, 512)         14714688  \n",
      "_________________________________________________________________\n",
      "flatten_1 (Flatten)          (None, 8192)              0         \n",
      "_________________________________________________________________\n",
      "dense_1 (Dense)              (None, 256)               2097408   \n",
      "_________________________________________________________________\n",
      "dropout_1 (Dropout)          (None, 256)               0         \n",
      "_________________________________________________________________\n",
      "dense_2 (Dense)              (None, 1)                 257       \n",
      "=================================================================\n",
      "Total params: 16,812,353\n",
      "Trainable params: 9,177,089\n",
      "Non-trainable params: 7,635,264\n",
      "_________________________________________________________________\n"
     ]
    }
   ],
   "source": [
    "''' Build model '''\n",
    "\n",
    "from keras import models\n",
    "from keras import layers\n",
    "\n",
    "model = models.Sequential()\n",
    "model.add(conv_base)\n",
    "model.add(layers.Flatten())\n",
    "model.add(layers.Dense(256, activation='relu'))\n",
    "model.add(layers.Dropout(0.5)) # without it, val_acc=96%\n",
    "model.add(layers.Dense(1, activation='sigmoid'))\n",
    "\n",
    "model.summary()"
   ]
  },
  {
   "cell_type": "code",
   "execution_count": 5,
   "metadata": {},
   "outputs": [
    {
     "name": "stdout",
     "output_type": "stream",
     "text": [
      "Found 2000 images belonging to 2 classes.\n",
      "Found 1000 images belonging to 2 classes.\n"
     ]
    }
   ],
   "source": [
    "''' Make augmented data generators '''\n",
    "\n",
    "import os\n",
    "from keras.preprocessing.image import ImageDataGenerator\n",
    "\n",
    "base_dir = '/input'\n",
    "train_dir = os.path.join(base_dir, 'train')\n",
    "validation_dir = os.path.join(base_dir, 'validation')\n",
    "\n",
    "train_datagen = ImageDataGenerator(rescale=1./255,\n",
    "                                  rotation_range=40,\n",
    "                                  width_shift_range=0.2,\n",
    "                                  height_shift_range=0.2,\n",
    "                                  shear_range=0.2,\n",
    "                                  zoom_range=0.2,\n",
    "                                  horizontal_flip=True,\n",
    "                                  fill_mode='nearest')\n",
    "test_datagen = ImageDataGenerator(rescale=1./255)\n",
    "\n",
    "train_generator = train_datagen.flow_from_directory(\n",
    "    train_dir,\n",
    "    target_size=(150, 150), # this parameter would differ for another pretrained conv_base\n",
    "    batch_size=20,\n",
    "    class_mode='binary')\n",
    "\n",
    "validation_generator = test_datagen.flow_from_directory(\n",
    "    validation_dir,\n",
    "    target_size=(150, 150),\n",
    "    batch_size=20,\n",
    "    class_mode='binary')"
   ]
  },
  {
   "cell_type": "code",
   "execution_count": 6,
   "metadata": {},
   "outputs": [
    {
     "name": "stdout",
     "output_type": "stream",
     "text": [
      "Epoch 1/30\n",
      "100/100 [==============================] - 31s 307ms/step - loss: 0.6632 - acc: 0.6150 - val_loss: 0.4243 - val_acc: 0.8230\n",
      "Epoch 2/30\n",
      "100/100 [==============================] - 25s 250ms/step - loss: 0.4995 - acc: 0.7565 - val_loss: 0.2951 - val_acc: 0.8690\n",
      "Epoch 3/30\n",
      "100/100 [==============================] - 25s 250ms/step - loss: 0.3903 - acc: 0.8165 - val_loss: 0.2310 - val_acc: 0.9040\n",
      "Epoch 4/30\n",
      "100/100 [==============================] - 25s 250ms/step - loss: 0.3476 - acc: 0.8485 - val_loss: 0.2080 - val_acc: 0.9100\n",
      "Epoch 5/30\n",
      "100/100 [==============================] - 25s 251ms/step - loss: 0.3220 - acc: 0.8580 - val_loss: 0.2231 - val_acc: 0.9100\n",
      "Epoch 6/30\n",
      "100/100 [==============================] - 25s 252ms/step - loss: 0.3076 - acc: 0.8545 - val_loss: 0.2049 - val_acc: 0.9250\n",
      "Epoch 7/30\n",
      "100/100 [==============================] - 25s 252ms/step - loss: 0.2794 - acc: 0.8765 - val_loss: 0.1801 - val_acc: 0.9240\n",
      "Epoch 8/30\n",
      "100/100 [==============================] - 25s 252ms/step - loss: 0.2666 - acc: 0.8850 - val_loss: 0.1737 - val_acc: 0.9280\n",
      "Epoch 9/30\n",
      "100/100 [==============================] - 25s 252ms/step - loss: 0.2652 - acc: 0.8840 - val_loss: 0.1751 - val_acc: 0.9230\n",
      "Epoch 10/30\n",
      "100/100 [==============================] - 25s 251ms/step - loss: 0.2379 - acc: 0.9020 - val_loss: 0.2044 - val_acc: 0.9210\n",
      "Epoch 11/30\n",
      "100/100 [==============================] - 25s 252ms/step - loss: 0.2209 - acc: 0.9000 - val_loss: 0.1740 - val_acc: 0.9370\n",
      "Epoch 12/30\n",
      "100/100 [==============================] - 25s 252ms/step - loss: 0.2224 - acc: 0.9125 - val_loss: 0.1681 - val_acc: 0.9390\n",
      "Epoch 13/30\n",
      "100/100 [==============================] - 25s 255ms/step - loss: 0.2122 - acc: 0.9185 - val_loss: 0.1558 - val_acc: 0.9380\n",
      "Epoch 14/30\n",
      "100/100 [==============================] - 25s 253ms/step - loss: 0.2031 - acc: 0.9150 - val_loss: 0.1595 - val_acc: 0.9360\n",
      "Epoch 15/30\n",
      "100/100 [==============================] - 25s 254ms/step - loss: 0.1876 - acc: 0.9255 - val_loss: 0.1852 - val_acc: 0.9310\n",
      "Epoch 16/30\n",
      "100/100 [==============================] - 25s 251ms/step - loss: 0.1863 - acc: 0.9235 - val_loss: 0.1512 - val_acc: 0.9420\n",
      "Epoch 17/30\n",
      "100/100 [==============================] - 25s 250ms/step - loss: 0.1857 - acc: 0.9245 - val_loss: 0.1824 - val_acc: 0.9320\n",
      "Epoch 18/30\n",
      "100/100 [==============================] - 26s 256ms/step - loss: 0.1586 - acc: 0.9385 - val_loss: 0.1868 - val_acc: 0.9380\n",
      "Epoch 19/30\n",
      "100/100 [==============================] - 25s 251ms/step - loss: 0.1756 - acc: 0.9330 - val_loss: 0.2230 - val_acc: 0.9210\n",
      "Epoch 20/30\n",
      "100/100 [==============================] - 25s 250ms/step - loss: 0.1628 - acc: 0.9385 - val_loss: 0.1775 - val_acc: 0.9390\n",
      "Epoch 21/30\n",
      "100/100 [==============================] - 25s 251ms/step - loss: 0.1642 - acc: 0.9325 - val_loss: 0.1441 - val_acc: 0.9440\n",
      "Epoch 22/30\n",
      "100/100 [==============================] - 25s 253ms/step - loss: 0.1466 - acc: 0.9390 - val_loss: 0.1694 - val_acc: 0.9410\n",
      "Epoch 23/30\n",
      "100/100 [==============================] - 25s 253ms/step - loss: 0.1486 - acc: 0.9350 - val_loss: 0.1421 - val_acc: 0.9490\n",
      "Epoch 24/30\n",
      "100/100 [==============================] - 25s 252ms/step - loss: 0.1388 - acc: 0.9420 - val_loss: 0.1496 - val_acc: 0.9470\n",
      "Epoch 25/30\n",
      "100/100 [==============================] - 25s 252ms/step - loss: 0.1354 - acc: 0.9460 - val_loss: 0.1649 - val_acc: 0.9420\n",
      "Epoch 26/30\n",
      "100/100 [==============================] - 25s 251ms/step - loss: 0.1263 - acc: 0.9490 - val_loss: 0.1513 - val_acc: 0.9460\n",
      "Epoch 27/30\n",
      "100/100 [==============================] - 25s 251ms/step - loss: 0.1226 - acc: 0.9520 - val_loss: 0.1433 - val_acc: 0.9470\n",
      "Epoch 28/30\n",
      "100/100 [==============================] - 25s 252ms/step - loss: 0.1241 - acc: 0.9545 - val_loss: 0.1889 - val_acc: 0.9440\n",
      "Epoch 29/30\n",
      "100/100 [==============================] - 25s 252ms/step - loss: 0.1258 - acc: 0.9530 - val_loss: 0.1414 - val_acc: 0.9530\n",
      "Epoch 30/30\n",
      "100/100 [==============================] - 25s 253ms/step - loss: 0.1215 - acc: 0.9570 - val_loss: 0.1337 - val_acc: 0.9470\n"
     ]
    }
   ],
   "source": [
    "''' Compile, train and save model '''\n",
    "\n",
    "from keras import optimizers\n",
    "\n",
    "model.compile(loss='binary_crossentropy',\n",
    "              optimizer=optimizers.RMSprop(lr=1e-5),\n",
    "              metrics=['acc'])\n",
    "\n",
    "history = model.fit_generator(\n",
    "    train_generator,\n",
    "    steps_per_epoch=100,\n",
    "    epochs=30,\n",
    "    validation_data=validation_generator,\n",
    "    validation_steps=50)\n",
    "\n",
    "model.save('cats_and_dogs_fine-tuned_aug.h5')"
   ]
  },
  {
   "cell_type": "code",
   "execution_count": 7,
   "metadata": {},
   "outputs": [],
   "source": [
    "''' Saving model to somewhere '''\n",
    "\n",
    "model.save('/output/cats_and_dogs_fine-tuned_aug.h5')"
   ]
  },
  {
   "cell_type": "code",
   "execution_count": 9,
   "metadata": {},
   "outputs": [
    {
     "data": {
      "image/png": "[encoded data removed]",
      "text/plain": [
       "<Figure size 432x288 with 1 Axes>"
      ]
     },
     "metadata": {},
     "output_type": "display_data"
    },
    {
     "data": {
      "image/png": "[encoded data removed]",
      "text/plain": [
       "<Figure size 432x288 with 1 Axes>"
      ]
     },
     "metadata": {},
     "output_type": "display_data"
    }
   ],
   "source": [
    "''' Plotting the results '''\n",
    "\n",
    "import matplotlib.pyplot as plt\n",
    "\n",
    "acc = history.history['acc']\n",
    "val_acc = history.history['val_acc']\n",
    "loss = history.history['loss']\n",
    "val_loss = history.history['val_loss']\n",
    "\n",
    "epochs = range(1, len(acc) + 1)\n",
    "\n",
    "plt.plot(epochs, acc, 'bo', label='Training accuracy')\n",
    "plt.plot(epochs, val_acc, 'b', label='Validation accuracy')\n",
    "plt.title('Training and validaion accuracy')\n",
    "plt.xlabel('Epochs')\n",
    "plt.ylabel('Accuracy')\n",
    "plt.legend()\n",
    "\n",
    "plt.figure()\n",
    "\n",
    "plt.plot(epochs, loss, 'go', label='Training loss')\n",
    "plt.plot(epochs, val_loss, 'g', label='Validation loss')\n",
    "plt.title('Training and validaion loss')\n",
    "plt.xlabel('Epochs')\n",
    "plt.ylabel('Loss')\n",
    "plt.legend()\n",
    "\n",
    "plt.show()"
   ]
  },
  {
   "cell_type": "code",
   "execution_count": 11,
   "metadata": {},
   "outputs": [
    {
     "data": {
      "image/png": "[encoded data removed]",
      "text/plain": [
       "<Figure size 432x288 with 1 Axes>"
      ]
     },
     "metadata": {},
     "output_type": "display_data"
    },
    {
     "data": {
      "image/png": "[encoded data removed]",
      "text/plain": [
       "<Figure size 432x288 with 1 Axes>"
      ]
     },
     "metadata": {},
     "output_type": "display_data"
    }
   ],
   "source": [
    "''' Plot smoothed accuracy and loss '''\n",
    "\n",
    "def smooth_curve(points, factor=0.8):\n",
    "    smoothed_points = []\n",
    "    for point in points:\n",
    "        if smoothed_points:\n",
    "            previous = smoothed_points[-1]\n",
    "            smoothed_points.append(previous * factor + point * (1 - factor))\n",
    "        else:\n",
    "            smoothed_points.append(point)\n",
    "    return smoothed_points\n",
    "\n",
    "plt.plot(epochs, \n",
    "         smooth_curve(acc), 'bo', label='Smoothed training acc')\n",
    "plt.plot(epochs, \n",
    "         smooth_curve(val_acc), 'b', label='Smoothed validation acc')\n",
    "plt.title('Training and validation accuracy')\n",
    "plt.legend()\n",
    "\n",
    "plt.figure()\n",
    "\n",
    "plt.plot(epochs, \n",
    "         smooth_curve(loss), 'bo', label='Smoothed training loss')\n",
    "plt.plot(epochs, \n",
    "         smooth_curve(val_loss), 'g', label='Smoothed validation loss')\n",
    "plt.title('Training and validation accuracy')\n",
    "plt.legend()\n",
    "\n",
    "plt.show()"
   ]
  },
  {
   "cell_type": "code",
   "execution_count": 12,
   "metadata": {},
   "outputs": [
    {
     "name": "stdout",
     "output_type": "stream",
     "text": [
      "Found 1000 images belonging to 2 classes.\n",
      "test accuracy: 0.9229999959468842\n"
     ]
    }
   ],
   "source": [
    "''' Evaluate best model on test dataset '''\n",
    "\n",
    "test_dir = os.path.join(base_dir, 'test')\n",
    "\n",
    "test_generator = test_datagen.flow_from_directory(\n",
    "    test_dir,\n",
    "    target_size=(150, 150),\n",
    "    batch_size=20,\n",
    "    class_mode='binary')\n",
    "\n",
    "test_loss, test_acc = model.evaluate_generator(test_generator, steps=50)\n",
    "print('test accuracy:', test_acc)"
   ]
  },
  {
   "cell_type": "code",
   "execution_count": null,
   "metadata": {},
   "outputs": [],
   "source": []
  }
 ],
 "metadata": {
  "kernelspec": {
   "display_name": "Python 3",
   "language": "python",
   "name": "python3"
  },
  "language_info": {
   "codemirror_mode": {
    "name": "ipython",
    "version": 3
   },
   "file_extension": ".py",
   "mimetype": "text/x-python",
   "name": "python",
   "nbconvert_exporter": "python",
   "pygments_lexer": "ipython3",
   "version": "3.6.5"
  }
 },
 "nbformat": 4,
 "nbformat_minor": 2
}
