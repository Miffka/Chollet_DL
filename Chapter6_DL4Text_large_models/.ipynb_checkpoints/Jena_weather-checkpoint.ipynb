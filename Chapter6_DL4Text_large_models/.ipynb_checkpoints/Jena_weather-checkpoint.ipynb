{
 "cells": [
  {
   "cell_type": "code",
   "execution_count": 1,
   "metadata": {},
   "outputs": [
    {
     "name": "stdout",
     "output_type": "stream",
     "text": [
      "             Date Time  p (mbar)  T (degC)  Tpot (K)  Tdew (degC)  rh (%)  \\\n",
      "0  01.01.2009 00:10:00    996.52     -8.02    265.40        -8.90    93.3   \n",
      "1  01.01.2009 00:20:00    996.57     -8.41    265.01        -9.28    93.4   \n",
      "2  01.01.2009 00:30:00    996.53     -8.51    264.91        -9.31    93.9   \n",
      "3  01.01.2009 00:40:00    996.51     -8.31    265.12        -9.07    94.2   \n",
      "4  01.01.2009 00:50:00    996.51     -8.27    265.15        -9.04    94.1   \n",
      "\n",
      "   VPmax (mbar)  VPact (mbar)  VPdef (mbar)  sh (g/kg)  H2OC (mmol/mol)  \\\n",
      "0          3.33          3.11          0.22       1.94             3.12   \n",
      "1          3.23          3.02          0.21       1.89             3.03   \n",
      "2          3.21          3.01          0.20       1.88             3.02   \n",
      "3          3.26          3.07          0.19       1.92             3.08   \n",
      "4          3.27          3.08          0.19       1.92             3.09   \n",
      "\n",
      "   rho (g/m**3)  wv (m/s)  max. wv (m/s)  wd (deg)  \n",
      "0       1307.75      1.03           1.75     152.3  \n",
      "1       1309.80      0.72           1.50     136.1  \n",
      "2       1310.24      0.19           0.63     171.6  \n",
      "3       1309.19      0.34           0.50     198.0  \n",
      "4       1309.00      0.32           0.63     214.3  \n"
     ]
    }
   ],
   "source": [
    "''' Jena weather dataset '''\n",
    "\n",
    "import os\n",
    "import pandas as pd\n",
    "\n",
    "data_dir = '/input'\n",
    "fname = os.path.join(data_dir, 'jena_climate_2009_2016.csv')\n",
    "\n",
    "jena_pd = pd.read_csv(fname)\n",
    "\n",
    "print(jena_pd.head(5))"
   ]
  },
  {
   "cell_type": "code",
   "execution_count": 2,
   "metadata": {},
   "outputs": [
    {
     "name": "stdout",
     "output_type": "stream",
     "text": [
      "(420551, 14)\n",
      "[ 9.9657e+02 -8.4100e+00  2.6501e+02 -9.2800e+00  9.3400e+01  3.2300e+00\n",
      "  3.0200e+00  2.1000e-01  1.8900e+00  3.0300e+00  1.3098e+03  7.2000e-01\n",
      "  1.5000e+00  1.3610e+02]\n"
     ]
    }
   ],
   "source": [
    "import numpy as np\n",
    "\n",
    "values = np.asarray(jena_pd.iloc[:, 1:].values, dtype='float32')\n",
    "\n",
    "print(values.shape)\n",
    "\n",
    "print(values[1])"
   ]
  },
  {
   "cell_type": "code",
   "execution_count": 3,
   "metadata": {},
   "outputs": [
    {
     "data": {
      "text/plain": [
       "[<matplotlib.lines.Line2D at 0x7f5dc4afa2b0>]"
      ]
     },
     "execution_count": 3,
     "metadata": {},
     "output_type": "execute_result"
    }
   ],
   "source": [
    "from matplotlib import pyplot as plt\n",
    "\n",
    "temp = values[:, 1] # temperature in C\n",
    "plt.plot(range(len(temp)), temp)"
   ]
  },
  {
   "cell_type": "code",
   "execution_count": 4,
   "metadata": {},
   "outputs": [],
   "source": [
    "''' Normalizing the data '''\n",
    "\n",
    "mean = values[:200000].mean(axis=0)\n",
    "values -= mean\n",
    "std = values[:200000].std(axis=0)\n",
    "values /= std"
   ]
  },
  {
   "cell_type": "code",
   "execution_count": 5,
   "metadata": {},
   "outputs": [],
   "source": [
    "''' Generator yielding timeseries samples and their targets '''\n",
    "\n",
    "def generator(data, lookback, delay, min_index, max_index,\n",
    "              shuffle=True, batch_size=128, step=6):\n",
    "    if max_index is None:\n",
    "        max_index = len(data) - delay - 1\n",
    "    i = min_index + lookback\n",
    "    while 1:\n",
    "        if shuffle:\n",
    "            rows = np.random.randint(\n",
    "                min_index + lookback, max_index, size=batch_size)\n",
    "        else:\n",
    "            if i + batch_size >= max_index:\n",
    "                i = min_index + lookback\n",
    "            rows = np.arange(i, min(i + batch_size, max_index))\n",
    "            i += len(rows)\n",
    "            \n",
    "        samples = np.zeros((len(rows),\n",
    "                            lookback // step,\n",
    "                            data.shape[-1]))\n",
    "        targets = np.zeros((len(rows),))\n",
    "        for j, row in enumerate(rows):\n",
    "            indices = range(rows[j] - lookback, rows[j], step)\n",
    "            samples[j] = data[indices] # select all 14 columns as predictors\n",
    "            targets[j] = data[rows[j] + delay][1] # select only temperature as target\n",
    "        yield samples, targets"
   ]
  },
  {
   "cell_type": "code",
   "execution_count": 6,
   "metadata": {},
   "outputs": [],
   "source": [
    "''' Preparing the training, validation, and test generators '''\n",
    "\n",
    "lookback = 1440\n",
    "step = 6\n",
    "delay = 144\n",
    "batch_size = 128\n",
    "\n",
    "train_gen = generator(values,\n",
    "                      lookback=lookback,\n",
    "                      delay=delay,\n",
    "                      min_index=0,\n",
    "                      max_index=200000,\n",
    "                      shuffle=True,\n",
    "                      step=step,\n",
    "                      batch_size=batch_size)\n",
    "val_gen = generator(values,\n",
    "                      lookback=lookback,\n",
    "                      delay=delay,\n",
    "                      min_index=200001,\n",
    "                      max_index=300000,\n",
    "                      step=step,\n",
    "                      batch_size=batch_size)\n",
    "test_gen = generator(values,\n",
    "                      lookback=lookback,\n",
    "                      delay=delay,\n",
    "                      min_index=300001,\n",
    "                      max_index=None,\n",
    "                      step=step,\n",
    "                      batch_size=batch_size)\n",
    "\n",
    "val_steps = (300000 - 200001 - lookback) // batch_size\n",
    "\n",
    "test_steps = (len(values) - 300001 - lookback) // batch_size"
   ]
  },
  {
   "cell_type": "markdown",
   "metadata": {},
   "source": [
    "## Basic machine-learning approach\n",
    "\n",
    "A couple of Dense layers."
   ]
  },
  {
   "cell_type": "code",
   "execution_count": 13,
   "metadata": {},
   "outputs": [
    {
     "name": "stdout",
     "output_type": "stream",
     "text": [
      "Epoch 1/20\n",
      "500/500 [==============================] - 12s 24ms/step - loss: 1.2984 - val_loss: 0.6210\n",
      "Epoch 2/20\n",
      "500/500 [==============================] - 12s 24ms/step - loss: 0.4112 - val_loss: 0.3354\n",
      "Epoch 3/20\n",
      "500/500 [==============================] - 12s 24ms/step - loss: 0.2913 - val_loss: 0.3031\n",
      "Epoch 4/20\n",
      "500/500 [==============================] - 12s 24ms/step - loss: 0.2643 - val_loss: 0.3588\n",
      "Epoch 5/20\n",
      "500/500 [==============================] - 12s 24ms/step - loss: 0.2539 - val_loss: 0.3059\n",
      "Epoch 6/20\n",
      "500/500 [==============================] - 12s 24ms/step - loss: 0.2444 - val_loss: 0.3102\n",
      "Epoch 7/20\n",
      "500/500 [==============================] - 12s 24ms/step - loss: 0.2382 - val_loss: 0.3132\n",
      "Epoch 8/20\n",
      "500/500 [==============================] - 12s 24ms/step - loss: 0.2353 - val_loss: 0.3179\n",
      "Epoch 9/20\n",
      "500/500 [==============================] - 12s 24ms/step - loss: 0.2293 - val_loss: 0.3389\n",
      "Epoch 10/20\n",
      "500/500 [==============================] - 12s 24ms/step - loss: 0.2258 - val_loss: 0.3316\n",
      "Epoch 11/20\n",
      "500/500 [==============================] - 12s 24ms/step - loss: 0.2212 - val_loss: 0.3251\n",
      "Epoch 12/20\n",
      "500/500 [==============================] - 12s 24ms/step - loss: 0.2186 - val_loss: 0.3209\n",
      "Epoch 13/20\n",
      "500/500 [==============================] - 12s 24ms/step - loss: 0.2170 - val_loss: 0.3492\n",
      "Epoch 14/20\n",
      "500/500 [==============================] - 12s 24ms/step - loss: 0.2142 - val_loss: 0.3689\n",
      "Epoch 15/20\n",
      "500/500 [==============================] - 12s 24ms/step - loss: 0.2113 - val_loss: 0.3294\n",
      "Epoch 16/20\n",
      "500/500 [==============================] - 12s 24ms/step - loss: 0.2090 - val_loss: 0.3233\n",
      "Epoch 17/20\n",
      "500/500 [==============================] - 12s 24ms/step - loss: 0.2071 - val_loss: 0.3250\n",
      "Epoch 18/20\n",
      "500/500 [==============================] - 12s 24ms/step - loss: 0.2055 - val_loss: 0.3651\n",
      "Epoch 19/20\n",
      "500/500 [==============================] - 12s 24ms/step - loss: 0.2030 - val_loss: 0.3386\n",
      "Epoch 20/20\n",
      "500/500 [==============================] - 12s 24ms/step - loss: 0.2015 - val_loss: 0.3291\n"
     ]
    }
   ],
   "source": [
    "''' Training densely connected model '''\n",
    "\n",
    "from keras.models import Sequential\n",
    "from keras import layers\n",
    "from keras.optimizers import RMSprop\n",
    "\n",
    "model = Sequential()\n",
    "model.add(layers.Flatten(input_shape=(lookback // step, values.shape[-1])))\n",
    "model.add(layers.Dense(32, activation='relu'))\n",
    "model.add(layers.Dense(1))\n",
    "\n",
    "model.compile(optimizer=RMSprop(),\n",
    "              loss='mae')\n",
    "history = model.fit_generator(train_gen,\n",
    "                              steps_per_epoch=500,\n",
    "                              epochs=20,\n",
    "                              validation_data=val_gen,\n",
    "                              validation_steps=val_steps)"
   ]
  },
  {
   "cell_type": "code",
   "execution_count": 15,
   "metadata": {},
   "outputs": [
    {
     "data": {
      "image/png": "[encoded data removed]",
      "text/plain": [
       "<Figure size 432x288 with 1 Axes>"
      ]
     },
     "metadata": {},
     "output_type": "display_data"
    }
   ],
   "source": [
    "''' Plotting results of baseline model '''\n",
    "\n",
    "loss = history.history['loss']\n",
    "val_loss = history.history['val_loss']\n",
    "\n",
    "epochs = range(1, len(loss) + 1)\n",
    "\n",
    "plt.figure()\n",
    "\n",
    "plt.plot(epochs, loss, 'ro', label='Training loss')\n",
    "plt.plot(epochs, val_loss, 'r', label='Validation loss')\n",
    "plt.title('Training and validation loss')\n",
    "plt.legend()\n",
    "\n",
    "plt.show()"
   ]
  },
  {
   "cell_type": "markdown",
   "metadata": {},
   "source": [
    "## First recurrent baseline\n",
    "\n",
    "Use *GRU* - gated recurrent unit. Works using the same principle as LSTM, but somewhat streamlined and thus cheaper but may not have as much representational power as LSTM."
   ]
  },
  {
   "cell_type": "code",
   "execution_count": 16,
   "metadata": {},
   "outputs": [
    {
     "name": "stdout",
     "output_type": "stream",
     "text": [
      "Epoch 1/20\n",
      "500/500 [==============================] - 165s 330ms/step - loss: 0.3025 - val_loss: 0.2683\n",
      "Epoch 2/20\n",
      "500/500 [==============================] - 164s 327ms/step - loss: 0.2851 - val_loss: 0.2717\n",
      "Epoch 3/20\n",
      "500/500 [==============================] - 164s 327ms/step - loss: 0.2783 - val_loss: 0.2689\n",
      "Epoch 4/20\n",
      "500/500 [==============================] - 163s 326ms/step - loss: 0.2727 - val_loss: 0.2637\n",
      "Epoch 5/20\n",
      "500/500 [==============================] - 164s 328ms/step - loss: 0.2677 - val_loss: 0.2600\n",
      "Epoch 6/20\n",
      "500/500 [==============================] - 163s 326ms/step - loss: 0.2646 - val_loss: 0.2723\n",
      "Epoch 7/20\n",
      "500/500 [==============================] - 163s 325ms/step - loss: 0.2615 - val_loss: 0.2677\n",
      "Epoch 8/20\n",
      "500/500 [==============================] - 163s 327ms/step - loss: 0.2563 - val_loss: 0.2669\n",
      "Epoch 9/20\n",
      "500/500 [==============================] - 163s 326ms/step - loss: 0.2501 - val_loss: 0.2671\n",
      "Epoch 10/20\n",
      "500/500 [==============================] - 163s 327ms/step - loss: 0.2462 - val_loss: 0.2732\n",
      "Epoch 11/20\n",
      "500/500 [==============================] - 163s 327ms/step - loss: 0.2451 - val_loss: 0.2687\n",
      "Epoch 12/20\n",
      "500/500 [==============================] - 164s 328ms/step - loss: 0.2409 - val_loss: 0.2759\n",
      "Epoch 13/20\n",
      "500/500 [==============================] - 164s 328ms/step - loss: 0.2378 - val_loss: 0.2742\n",
      "Epoch 14/20\n",
      "500/500 [==============================] - 164s 328ms/step - loss: 0.2346 - val_loss: 0.2809\n",
      "Epoch 15/20\n",
      "500/500 [==============================] - 165s 329ms/step - loss: 0.2313 - val_loss: 0.2742\n",
      "Epoch 16/20\n",
      "500/500 [==============================] - 163s 326ms/step - loss: 0.2278 - val_loss: 0.2789\n",
      "Epoch 17/20\n",
      "500/500 [==============================] - 164s 328ms/step - loss: 0.2268 - val_loss: 0.2814\n",
      "Epoch 18/20\n",
      "500/500 [==============================] - 163s 326ms/step - loss: 0.2233 - val_loss: 0.2869\n",
      "Epoch 19/20\n",
      "500/500 [==============================] - 163s 326ms/step - loss: 0.2210 - val_loss: 0.2863\n",
      "Epoch 20/20\n",
      "500/500 [==============================] - 163s 326ms/step - loss: 0.2182 - val_loss: 0.2925\n"
     ]
    }
   ],
   "source": [
    "''' GRU-based model '''\n",
    "\n",
    "from keras.models import Sequential\n",
    "from keras import layers\n",
    "from keras.optimizers import RMSprop\n",
    "\n",
    "model = Sequential()\n",
    "model.add(layers.GRU(32, input_shape=(None, values.shape[-1])))\n",
    "model.add(layers.Dense(1))\n",
    "\n",
    "model.compile(optimizer=RMSprop(),\n",
    "              loss='mae')\n",
    "\n",
    "history = model.fit_generator(train_gen,\n",
    "                              steps_per_epoch=500,\n",
    "                              epochs=20,\n",
    "                              validation_data=val_gen,\n",
    "                              validation_steps=val_steps)"
   ]
  },
  {
   "cell_type": "code",
   "execution_count": 17,
   "metadata": {},
   "outputs": [],
   "source": [
    "model.save('/output/GRU_model.h5')"
   ]
  },
  {
   "cell_type": "code",
   "execution_count": 19,
   "metadata": {},
   "outputs": [
    {
     "data": {
      "image/png": "[encoded data removed]",
      "text/plain": [
       "<Figure size 432x288 with 1 Axes>"
      ]
     },
     "metadata": {},
     "output_type": "display_data"
    }
   ],
   "source": [
    "''' Plotting results of GRU model '''\n",
    "\n",
    "loss = history.history['loss']\n",
    "val_loss = history.history['val_loss']\n",
    "\n",
    "epochs = range(1, len(loss) + 1)\n",
    "\n",
    "plt.figure()\n",
    "\n",
    "plt.plot(epochs, loss, 'ro', label='Training loss')\n",
    "plt.plot(epochs, val_loss, 'r', label='Validation loss')\n",
    "plt.title('Training and validation loss')\n",
    "plt.legend()\n",
    "\n",
    "plt.show()"
   ]
  },
  {
   "cell_type": "markdown",
   "metadata": {},
   "source": [
    "## Recurrent dropout\n",
    "\n",
    "The same dropout mask should be applied to every timestep in the loop instead of random mask each timestep. "
   ]
  },
  {
   "cell_type": "code",
   "execution_count": 20,
   "metadata": {},
   "outputs": [
    {
     "name": "stdout",
     "output_type": "stream",
     "text": [
      "Epoch 1/40\n",
      "500/500 [==============================] - 190s 379ms/step - loss: 0.3358 - val_loss: 0.2742\n",
      "Epoch 2/40\n",
      "500/500 [==============================] - 189s 379ms/step - loss: 0.3164 - val_loss: 0.2713\n",
      "Epoch 3/40\n",
      "500/500 [==============================] - 188s 377ms/step - loss: 0.3074 - val_loss: 0.2676\n",
      "Epoch 4/40\n",
      "500/500 [==============================] - 190s 379ms/step - loss: 0.3048 - val_loss: 0.2767\n",
      "Epoch 5/40\n",
      "500/500 [==============================] - 189s 378ms/step - loss: 0.3038 - val_loss: 0.2774\n",
      "Epoch 6/40\n",
      "500/500 [==============================] - 189s 377ms/step - loss: 0.2989 - val_loss: 0.2692\n",
      "Epoch 7/40\n",
      "500/500 [==============================] - 188s 376ms/step - loss: 0.2989 - val_loss: 0.2684\n",
      "Epoch 8/40\n",
      "500/500 [==============================] - 188s 377ms/step - loss: 0.2957 - val_loss: 0.2638\n",
      "Epoch 9/40\n",
      "500/500 [==============================] - 189s 378ms/step - loss: 0.2933 - val_loss: 0.2607\n",
      "Epoch 10/40\n",
      "500/500 [==============================] - 187s 374ms/step - loss: 0.2916 - val_loss: 0.2658\n",
      "Epoch 11/40\n",
      "500/500 [==============================] - 186s 372ms/step - loss: 0.2908 - val_loss: 0.2627\n",
      "Epoch 12/40\n",
      "500/500 [==============================] - 187s 375ms/step - loss: 0.2908 - val_loss: 0.2632\n",
      "Epoch 13/40\n",
      "500/500 [==============================] - 187s 373ms/step - loss: 0.2897 - val_loss: 0.2633\n",
      "Epoch 14/40\n",
      "500/500 [==============================] - 186s 373ms/step - loss: 0.2867 - val_loss: 0.2615\n",
      "Epoch 15/40\n",
      "500/500 [==============================] - 187s 374ms/step - loss: 0.2863 - val_loss: 0.2643\n",
      "Epoch 16/40\n",
      "500/500 [==============================] - 187s 373ms/step - loss: 0.2866 - val_loss: 0.2652\n",
      "Epoch 17/40\n",
      "500/500 [==============================] - 188s 376ms/step - loss: 0.2845 - val_loss: 0.2628\n",
      "Epoch 18/40\n",
      "500/500 [==============================] - 188s 375ms/step - loss: 0.2832 - val_loss: 0.2656\n",
      "Epoch 19/40\n",
      "500/500 [==============================] - 188s 376ms/step - loss: 0.2819 - val_loss: 0.2680\n",
      "Epoch 20/40\n",
      "500/500 [==============================] - 188s 375ms/step - loss: 0.2805 - val_loss: 0.2672\n",
      "Epoch 21/40\n",
      "500/500 [==============================] - 187s 374ms/step - loss: 0.2805 - val_loss: 0.2695\n",
      "Epoch 22/40\n",
      "500/500 [==============================] - 186s 372ms/step - loss: 0.2779 - val_loss: 0.2776\n",
      "Epoch 23/40\n",
      "500/500 [==============================] - 188s 375ms/step - loss: 0.2781 - val_loss: 0.2677\n",
      "Epoch 24/40\n",
      "500/500 [==============================] - 187s 374ms/step - loss: 0.2779 - val_loss: 0.2683\n",
      "Epoch 25/40\n",
      "500/500 [==============================] - 188s 375ms/step - loss: 0.2782 - val_loss: 0.2651\n",
      "Epoch 26/40\n",
      "500/500 [==============================] - 188s 377ms/step - loss: 0.2777 - val_loss: 0.2688\n",
      "Epoch 27/40\n",
      "500/500 [==============================] - 189s 377ms/step - loss: 0.2749 - val_loss: 0.2719\n",
      "Epoch 28/40\n",
      "500/500 [==============================] - 189s 378ms/step - loss: 0.2746 - val_loss: 0.2670\n",
      "Epoch 29/40\n",
      "500/500 [==============================] - 188s 376ms/step - loss: 0.2750 - val_loss: 0.2658\n",
      "Epoch 30/40\n",
      "500/500 [==============================] - 189s 378ms/step - loss: 0.2752 - val_loss: 0.2664\n",
      "Epoch 31/40\n",
      "500/500 [==============================] - 188s 377ms/step - loss: 0.2726 - val_loss: 0.2748\n",
      "Epoch 32/40\n",
      "500/500 [==============================] - 188s 376ms/step - loss: 0.2723 - val_loss: 0.2694\n",
      "Epoch 33/40\n",
      "500/500 [==============================] - 188s 375ms/step - loss: 0.2715 - val_loss: 0.2660\n",
      "Epoch 34/40\n",
      "500/500 [==============================] - 189s 378ms/step - loss: 0.2717 - val_loss: 0.2596\n",
      "Epoch 35/40\n",
      "500/500 [==============================] - 188s 377ms/step - loss: 0.2726 - val_loss: 0.2684\n",
      "Epoch 36/40\n",
      "500/500 [==============================] - 188s 376ms/step - loss: 0.2715 - val_loss: 0.2638\n",
      "Epoch 37/40\n",
      "500/500 [==============================] - 189s 377ms/step - loss: 0.2699 - val_loss: 0.2660\n",
      "Epoch 38/40\n",
      "500/500 [==============================] - 188s 377ms/step - loss: 0.2698 - val_loss: 0.2654\n",
      "Epoch 39/40\n",
      "500/500 [==============================] - 188s 377ms/step - loss: 0.2696 - val_loss: 0.2652\n",
      "Epoch 40/40\n",
      "500/500 [==============================] - 188s 377ms/step - loss: 0.2706 - val_loss: 0.2664\n"
     ]
    }
   ],
   "source": [
    "''' Training and evaluating a dropout-regularize GRU-base model '''\n",
    "\n",
    "from keras.models import Sequential\n",
    "from keras import layers\n",
    "from keras.optimizers import RMSprop\n",
    "\n",
    "model = Sequential()\n",
    "model.add(layers.GRU(32,\n",
    "                     dropout=0.2,\n",
    "                     recurrent_dropout=0.2,\n",
    "                     input_shape=(None, values.shape[-1])))\n",
    "model.add(layers.Dense(1))\n",
    "\n",
    "model.compile(optimizer=RMSprop(),\n",
    "              loss='mae')\n",
    "\n",
    "history = model.fit_generator(train_gen,\n",
    "                              steps_per_epoch=500,\n",
    "                              epochs=40,\n",
    "                              validation_data=val_gen,\n",
    "                              validation_steps=val_steps)\n",
    "\n",
    "model.save('/output/GRU_model_dropout.h5')"
   ]
  },
  {
   "cell_type": "code",
   "execution_count": 21,
   "metadata": {},
   "outputs": [
    {
     "data": {
      "image/png": "[encoded data removed]",
      "text/plain": [
       "<Figure size 432x288 with 1 Axes>"
      ]
     },
     "metadata": {},
     "output_type": "display_data"
    }
   ],
   "source": [
    "''' Plotting results of GRU-based model with dropout '''\n",
    "\n",
    "loss = history.history['loss']\n",
    "val_loss = history.history['val_loss']\n",
    "\n",
    "epochs = range(1, len(loss) + 1)\n",
    "\n",
    "plt.figure()\n",
    "\n",
    "plt.plot(epochs, loss, 'ro', label='Training loss')\n",
    "plt.plot(epochs, val_loss, 'r', label='Validation loss')\n",
    "plt.title('Training and validation loss')\n",
    "plt.legend()\n",
    "\n",
    "plt.show()"
   ]
  },
  {
   "cell_type": "markdown",
   "metadata": {},
   "source": [
    "## Stacking recurrent layers\n",
    "\n",
    "Make *return_sequences=True*."
   ]
  },
  {
   "cell_type": "code",
   "execution_count": 24,
   "metadata": {},
   "outputs": [
    {
     "name": "stdout",
     "output_type": "stream",
     "text": [
      "Epoch 1/20\n",
      "500/500 [==============================] - 395s 790ms/step - loss: 0.3350 - val_loss: 0.2729\n",
      "Epoch 2/20\n",
      "500/500 [==============================] - 391s 783ms/step - loss: 0.3137 - val_loss: 0.2778\n",
      "Epoch 3/20\n",
      "500/500 [==============================] - 392s 785ms/step - loss: 0.3074 - val_loss: 0.2719\n",
      "Epoch 4/20\n",
      "500/500 [==============================] - 394s 787ms/step - loss: 0.3030 - val_loss: 0.2730\n",
      "Epoch 5/20\n",
      "500/500 [==============================] - 394s 788ms/step - loss: 0.2978 - val_loss: 0.2696\n",
      "Epoch 6/20\n",
      "500/500 [==============================] - 393s 786ms/step - loss: 0.2945 - val_loss: 0.2662\n",
      "Epoch 7/20\n",
      "500/500 [==============================] - 392s 783ms/step - loss: 0.2919 - val_loss: 0.2650\n",
      "Epoch 8/20\n",
      "500/500 [==============================] - 393s 786ms/step - loss: 0.2908 - val_loss: 0.2624\n",
      "Epoch 9/20\n",
      "500/500 [==============================] - 391s 781ms/step - loss: 0.2874 - val_loss: 0.2663\n",
      "Epoch 10/20\n",
      "500/500 [==============================] - 391s 781ms/step - loss: 0.2864 - val_loss: 0.2665\n",
      "Epoch 11/20\n",
      "500/500 [==============================] - 390s 781ms/step - loss: 0.2828 - val_loss: 0.2671\n",
      "Epoch 12/20\n",
      "500/500 [==============================] - 389s 779ms/step - loss: 0.2788 - val_loss: 0.2671\n",
      "Epoch 13/20\n",
      "500/500 [==============================] - 390s 781ms/step - loss: 0.2790 - val_loss: 0.2670\n",
      "Epoch 14/20\n",
      "500/500 [==============================] - 389s 778ms/step - loss: 0.2772 - val_loss: 0.2648\n",
      "Epoch 15/20\n",
      "500/500 [==============================] - 389s 778ms/step - loss: 0.2774 - val_loss: 0.2679\n",
      "Epoch 16/20\n",
      "500/500 [==============================] - 388s 776ms/step - loss: 0.2752 - val_loss: 0.2698\n",
      "Epoch 17/20\n",
      "500/500 [==============================] - 389s 777ms/step - loss: 0.2741 - val_loss: 0.2726\n",
      "Epoch 18/20\n",
      "500/500 [==============================] - 388s 776ms/step - loss: 0.2730 - val_loss: 0.2673\n",
      "Epoch 19/20\n",
      "500/500 [==============================] - 388s 775ms/step - loss: 0.2716 - val_loss: 0.2625\n",
      "Epoch 20/20\n",
      "500/500 [==============================] - 389s 779ms/step - loss: 0.2709 - val_loss: 0.2697\n"
     ]
    }
   ],
   "source": [
    "''' Droput-regularized stacked GRU model '''\n",
    "\n",
    "from keras.models import Sequential\n",
    "from keras import layers\n",
    "from keras.optimizers import RMSprop\n",
    "\n",
    "model = Sequential()\n",
    "model.add(layers.GRU(32,\n",
    "                     dropout=0.1,\n",
    "                     recurrent_dropout=0.5,\n",
    "                     return_sequences=True,\n",
    "                     input_shape=(None, values.shape[-1])))\n",
    "model.add(layers.GRU(64,\n",
    "                     activation='relu',\n",
    "                     dropout=0.1,\n",
    "                     recurrent_dropout=0.5))\n",
    "model.add(layers.Dense(1))\n",
    "\n",
    "model.compile(optimizer=RMSprop(),\n",
    "              loss='mae')\n",
    "\n",
    "history = model.fit_generator(train_gen,\n",
    "                              steps_per_epoch=500,\n",
    "                              epochs=20,\n",
    "                              validation_data=val_gen,\n",
    "                              validation_steps=val_steps)\n",
    "\n",
    "model.save('/output/GRU_model_stacked_dropout.h5')"
   ]
  },
  {
   "cell_type": "code",
   "execution_count": 25,
   "metadata": {},
   "outputs": [
    {
     "data": {
      "image/png": "[encoded data removed]",
      "text/plain": [
       "<Figure size 432x288 with 1 Axes>"
      ]
     },
     "metadata": {},
     "output_type": "display_data"
    }
   ],
   "source": [
    "''' Plotting results of GRU-based stacked model with dropout '''\n",
    "\n",
    "loss = history.history['loss']\n",
    "val_loss = history.history['val_loss']\n",
    "\n",
    "epochs = range(1, len(loss) + 1)\n",
    "\n",
    "plt.figure()\n",
    "\n",
    "plt.plot(epochs, loss, 'ro', label='Training loss')\n",
    "plt.plot(epochs, val_loss, 'r', label='Validation loss')\n",
    "plt.title('Training and validation loss')\n",
    "plt.legend()\n",
    "\n",
    "plt.show()"
   ]
  },
  {
   "cell_type": "markdown",
   "metadata": {},
   "source": [
    "## Combining CNNs and RNNs to process long sequences\n",
    "\n",
    "Because 1D convnets process input pathces independently, they aren't sensitive to order of the timesteps (beyond the size of the convolution windows), unlike RNNs. \n",
    "But we can stack RNN layers over Conv1D layers to gather needed information."
   ]
  },
  {
   "cell_type": "code",
   "execution_count": 8,
   "metadata": {},
   "outputs": [
    {
     "name": "stdout",
     "output_type": "stream",
     "text": [
      "Epoch 1/20\n",
      "500/500 [==============================] - 14s 29ms/step - loss: 0.4237 - val_loss: 0.4322\n",
      "Epoch 2/20\n",
      "500/500 [==============================] - 13s 25ms/step - loss: 0.3628 - val_loss: 0.4391\n",
      "Epoch 3/20\n",
      "500/500 [==============================] - 12s 25ms/step - loss: 0.3390 - val_loss: 0.4802\n",
      "Epoch 4/20\n",
      "500/500 [==============================] - 12s 25ms/step - loss: 0.3205 - val_loss: 0.4471\n",
      "Epoch 5/20\n",
      "500/500 [==============================] - 12s 25ms/step - loss: 0.3096 - val_loss: 0.4516\n",
      "Epoch 6/20\n",
      "500/500 [==============================] - 12s 25ms/step - loss: 0.3010 - val_loss: 0.4584\n",
      "Epoch 7/20\n",
      "500/500 [==============================] - 12s 25ms/step - loss: 0.2931 - val_loss: 0.4578\n",
      "Epoch 8/20\n",
      "500/500 [==============================] - 12s 25ms/step - loss: 0.2861 - val_loss: 0.4609\n",
      "Epoch 9/20\n",
      "500/500 [==============================] - 12s 25ms/step - loss: 0.2810 - val_loss: 0.4676\n",
      "Epoch 10/20\n",
      "500/500 [==============================] - 12s 25ms/step - loss: 0.2749 - val_loss: 0.4920\n",
      "Epoch 11/20\n",
      "500/500 [==============================] - 12s 25ms/step - loss: 0.2701 - val_loss: 0.4843\n",
      "Epoch 12/20\n",
      "500/500 [==============================] - 12s 24ms/step - loss: 0.2675 - val_loss: 0.4821\n",
      "Epoch 13/20\n",
      "500/500 [==============================] - 12s 25ms/step - loss: 0.2634 - val_loss: 0.4619\n",
      "Epoch 14/20\n",
      "500/500 [==============================] - 12s 25ms/step - loss: 0.2591 - val_loss: 0.4908\n",
      "Epoch 15/20\n",
      "500/500 [==============================] - 12s 25ms/step - loss: 0.2562 - val_loss: 0.4767\n",
      "Epoch 16/20\n",
      "500/500 [==============================] - 12s 25ms/step - loss: 0.2537 - val_loss: 0.4872\n",
      "Epoch 17/20\n",
      "500/500 [==============================] - 12s 25ms/step - loss: 0.2503 - val_loss: 0.4730\n",
      "Epoch 18/20\n",
      "500/500 [==============================] - 12s 25ms/step - loss: 0.2482 - val_loss: 0.4804\n",
      "Epoch 19/20\n",
      "500/500 [==============================] - 12s 25ms/step - loss: 0.2453 - val_loss: 0.4757\n",
      "Epoch 20/20\n",
      "500/500 [==============================] - 12s 25ms/step - loss: 0.2445 - val_loss: 0.4870\n"
     ]
    }
   ],
   "source": [
    "''' Simple 1D convnet for jena weather data '''\n",
    "\n",
    "from keras.models import Sequential\n",
    "from keras import layers\n",
    "from keras.optimizers import RMSprop\n",
    "\n",
    "model = Sequential()\n",
    "model.add(layers.Conv1D(32, 5, activation='relu',\n",
    "                        input_shape=(None, values.shape[-1])))\n",
    "model.add(layers.MaxPooling1D(3))\n",
    "model.add(layers.Conv1D(32, 5, activation='relu'))\n",
    "model.add(layers.MaxPooling1D(3))\n",
    "model.add(layers.Conv1D(32, 5, activation='relu'))\n",
    "model.add(layers.GlobalMaxPooling1D())\n",
    "model.add(layers.Dense(1))\n",
    "\n",
    "model.compile(optimizer=RMSprop(),\n",
    "              loss='mae')\n",
    "history = model.fit_generator(train_gen,\n",
    "                              steps_per_epoch=500,\n",
    "                              epochs=20,\n",
    "                              validation_data=val_gen,\n",
    "                              validation_steps=val_steps)\n",
    "\n",
    "model.save('/output/jena_simple_1d_conv.h5')"
   ]
  },
  {
   "cell_type": "code",
   "execution_count": 9,
   "metadata": {},
   "outputs": [
    {
     "data": {
      "image/png": "[encoded data removed]",
      "text/plain": [
       "<Figure size 432x288 with 1 Axes>"
      ]
     },
     "metadata": {},
     "output_type": "display_data"
    }
   ],
   "source": [
    "''' Plotting results of simple 1D convnet '''\n",
    "\n",
    "loss = history.history['loss']\n",
    "val_loss = history.history['val_loss']\n",
    "\n",
    "epochs = range(1, len(loss) + 1)\n",
    "\n",
    "plt.figure()\n",
    "\n",
    "plt.plot(epochs, loss, 'mo', label='Training loss')\n",
    "plt.plot(epochs, val_loss, 'm', label='Validation loss')\n",
    "plt.title('Training and validation loss')\n",
    "plt.legend()\n",
    "\n",
    "plt.show()"
   ]
  },
  {
   "cell_type": "code",
   "execution_count": null,
   "metadata": {},
   "outputs": [],
   "source": [
    "''' Preparing higher-resolution data generators fot the Jena dataset '''\n",
    "\n",
    "step = 3\n",
    "lookback = 720\n",
    "delay = 144\n",
    "\n",
    "train_gen = generator(values,\n",
    "                      lookback=lookback,\n",
    "                      delay=delay,\n",
    "                      min_index=0,\n",
    "                      max_index=200000,\n",
    "                      shuffle=True,\n",
    "                      step=step)\n",
    "val_gen = generator(values,\n",
    "                    lookback=lookback,\n",
    "                    delay=delay,\n",
    "                    min_index=200001,\n",
    "                    max_index=300000,\n",
    "                    step=step)\n",
    "test_gen = generator(values,\n",
    "                     lookback=lookback,\n",
    "                     delay=delay,\n",
    "                     min_index=300001,\n",
    "                     max_index=None,\n",
    "                     step=step)\n",
    "val_steps = (300000 - 200001 - lookback) // 128\n",
    "test_steps = (len(values) - 300001 - lookback) // 128"
   ]
  },
  {
   "cell_type": "code",
   "execution_count": null,
   "metadata": {},
   "outputs": [],
   "source": [
    "''' Model combining 1D convnet and GRU '''\n",
    "\n",
    "from keras.model import Sequential\n",
    "from keras import layers\n",
    "from keras.optimizers import RMSprop\n",
    "\n",
    "model = Sequential()\n",
    "model.add(layers.Conv1D(32, 5, activation='relu',\n",
    "                        input_shape=(None, values.shape[-1])))\n",
    "model.add(layers.MaxPooling1D(3))\n",
    "model.add(layers.Conv1D(32, 5, activation='relu'))\n",
    "model.add(layers.GRU(32, dropout=0.1, recurrent_dropout=0.5))\n",
    "model.add(layers.Dense(1))\n",
    "\n",
    "model.summary()\n",
    "\n",
    "model.compile(optimizer=RMSprop(),\n",
    "              loss='mae')\n",
    "\n",
    "history = model.fit_generator(train_gen,\n",
    "                              steps_per_epoch=500,\n",
    "                              epochs=20,\n",
    "                              validation_data=validation_gen,\n",
    "                              validation_steps=val_steps)"
   ]
  },
  {
   "cell_type": "code",
   "execution_count": null,
   "metadata": {},
   "outputs": [],
   "source": [
    "''' Plotting results of combined Conv1D+GRU model with dropout '''\n",
    "\n",
    "loss = history.history['loss']\n",
    "val_loss = history.history['val_loss']\n",
    "\n",
    "epochs = range(1, len(loss) + 1)\n",
    "\n",
    "plt.figure()\n",
    "\n",
    "plt.plot(epochs, loss, 'mo', label='Training loss')\n",
    "plt.plot(epochs, val_loss, 'm', label='Validation loss')\n",
    "plt.title('Training and validation loss')\n",
    "plt.legend()\n",
    "\n",
    "plt.show()"
   ]
  }
 ],
 "metadata": {
  "kernelspec": {
   "display_name": "Python 3",
   "language": "python",
   "name": "python3"
  },
  "language_info": {
   "codemirror_mode": {
    "name": "ipython",
    "version": 3
   },
   "file_extension": ".py",
   "mimetype": "text/x-python",
   "name": "python",
   "nbconvert_exporter": "python",
   "pygments_lexer": "ipython3",
   "version": "3.6.6"
  }
 },
 "nbformat": 4,
 "nbformat_minor": 2
}
