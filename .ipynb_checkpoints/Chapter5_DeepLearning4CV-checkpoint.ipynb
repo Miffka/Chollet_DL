{
 "cells": [
  {
   "cell_type": "markdown",
   "metadata": {},
   "source": [
    "## Intro to convolutional networks"
   ]
  },
  {
   "cell_type": "code",
   "execution_count": 1,
   "metadata": {},
   "outputs": [
    {
     "name": "stderr",
     "output_type": "stream",
     "text": [
      "Using Theano backend.\n"
     ]
    },
    {
     "name": "stdout",
     "output_type": "stream",
     "text": [
      "_________________________________________________________________\n",
      "Layer (type)                 Output Shape              Param #   \n",
      "=================================================================\n",
      "conv2d_1 (Conv2D)            (None, 26, 26, 32)        320       \n",
      "_________________________________________________________________\n",
      "max_pooling2d_1 (MaxPooling2 (None, 13, 13, 32)        0         \n",
      "_________________________________________________________________\n",
      "conv2d_2 (Conv2D)            (None, 11, 11, 64)        18496     \n",
      "_________________________________________________________________\n",
      "max_pooling2d_2 (MaxPooling2 (None, 5, 5, 64)          0         \n",
      "_________________________________________________________________\n",
      "conv2d_3 (Conv2D)            (None, 3, 3, 64)          36928     \n",
      "=================================================================\n",
      "Total params: 55,744\n",
      "Trainable params: 55,744\n",
      "Non-trainable params: 0\n",
      "_________________________________________________________________\n"
     ]
    }
   ],
   "source": [
    "''' Make convolutional layers for feature extraction '''\n",
    "\n",
    "from keras import layers\n",
    "from keras import models\n",
    "\n",
    "model = models.Sequential()\n",
    "model.add(layers.Conv2D(32, (3, 3), activation='relu', input_shape=(28, 28, 1)))\n",
    "model.add(layers.MaxPooling2D((2, 2)))\n",
    "model.add(layers.Conv2D(64, (3, 3), activation='relu'))\n",
    "model.add(layers.MaxPooling2D((2, 2)))\n",
    "model.add(layers.Conv2D(64, (3, 3), activation='relu'))\n",
    "model.summary()"
   ]
  },
  {
   "cell_type": "code",
   "execution_count": 2,
   "metadata": {},
   "outputs": [
    {
     "name": "stdout",
     "output_type": "stream",
     "text": [
      "_________________________________________________________________\n",
      "Layer (type)                 Output Shape              Param #   \n",
      "=================================================================\n",
      "conv2d_1 (Conv2D)            (None, 26, 26, 32)        320       \n",
      "_________________________________________________________________\n",
      "max_pooling2d_1 (MaxPooling2 (None, 13, 13, 32)        0         \n",
      "_________________________________________________________________\n",
      "conv2d_2 (Conv2D)            (None, 11, 11, 64)        18496     \n",
      "_________________________________________________________________\n",
      "max_pooling2d_2 (MaxPooling2 (None, 5, 5, 64)          0         \n",
      "_________________________________________________________________\n",
      "conv2d_3 (Conv2D)            (None, 3, 3, 64)          36928     \n",
      "_________________________________________________________________\n",
      "flatten_1 (Flatten)          (None, 576)               0         \n",
      "_________________________________________________________________\n",
      "dense_1 (Dense)              (None, 64)                36928     \n",
      "_________________________________________________________________\n",
      "dense_2 (Dense)              (None, 10)                650       \n",
      "=================================================================\n",
      "Total params: 93,322\n",
      "Trainable params: 93,322\n",
      "Non-trainable params: 0\n",
      "_________________________________________________________________\n"
     ]
    }
   ],
   "source": [
    "''' Add dense layers for classification '''\n",
    "\n",
    "model.add(layers.Flatten())\n",
    "model.add(layers.Dense(64, activation='relu'))\n",
    "model.add(layers.Dense(10, activation='softmax'))\n",
    "model.summary()"
   ]
  },
  {
   "cell_type": "code",
   "execution_count": 3,
   "metadata": {},
   "outputs": [
    {
     "name": "stdout",
     "output_type": "stream",
     "text": [
      "Epoch 1/5\n",
      "60000/60000 [==============================] - 70s 1ms/step - loss: 0.1870 - acc: 0.9411\n",
      "Epoch 2/5\n",
      "60000/60000 [==============================] - 72s 1ms/step - loss: 0.0511 - acc: 0.9844\n",
      "Epoch 3/5\n",
      "60000/60000 [==============================] - 71s 1ms/step - loss: 0.0357 - acc: 0.9887\n",
      "Epoch 4/5\n",
      "60000/60000 [==============================] - 72s 1ms/step - loss: 0.0271 - acc: 0.9919\n",
      "Epoch 5/5\n",
      "60000/60000 [==============================] - 71s 1ms/step - loss: 0.0208 - acc: 0.9935\n"
     ]
    },
    {
     "data": {
      "text/plain": [
       "<keras.callbacks.History at 0x1c167d8da0>"
      ]
     },
     "execution_count": 3,
     "metadata": {},
     "output_type": "execute_result"
    }
   ],
   "source": [
    "''' Compiling and training '''\n",
    "\n",
    "from keras.datasets import mnist\n",
    "from keras.utils import to_categorical\n",
    "\n",
    "(train_images, train_labels), (test_images, test_labels) = \\\n",
    "    mnist.load_data()\n",
    "\n",
    "train_images = train_images.reshape((60000, 28, 28, 1))\n",
    "train_images = train_images.astype('float32') / 255\n",
    "\n",
    "test_images = test_images.reshape((10000, 28, 28, 1))\n",
    "test_images = test_images.astype('float32') / 255\n",
    "\n",
    "train_labels = to_categorical(train_labels)\n",
    "test_labels = to_categorical(test_labels)\n",
    "\n",
    "model.compile(optimizer='rmsprop',\n",
    "             loss='categorical_crossentropy',\n",
    "             metrics=['accuracy'])\n",
    "model.fit(train_images, train_labels, epochs=5, batch_size=64)"
   ]
  },
  {
   "cell_type": "code",
   "execution_count": null,
   "metadata": {},
   "outputs": [],
   "source": [
    "test_loss, test_acc = model.evaluate(test_images, test_labels)\n",
    "print(test_acc)"
   ]
  },
  {
   "cell_type": "markdown",
   "metadata": {},
   "source": [
    "### Properties of convolution operation"
   ]
  },
  {
   "cell_type": "markdown",
   "metadata": {},
   "source": [
    "The key characteristics of convnets:\n",
    "\n",
    "1) **The patterns they learn are translation invariant.** That's why they are efficient when processing images (because *the visual world is fundamentally translation invariant*).\n",
    "\n",
    "2) **They can learn spatial hierarchies of patterns.** They can learn increasingly complex and abstract visual concepts (because *the visual world is fundamentally spatially hierarchical*).\n",
    "\n",
    "Operate over 3D tensors, called feature maps, with two spatial axes (*height* and *width*) as well as a *depth* axis. For an RGB image the dimension of the depth axis is 3 (red, blue and green channels). Output - 3D tensor, has a heigth and width, depth is arbitrary. Output depth is parameter of the layer, stands not for colors, but for *filters*.\n",
    "\n",
    "In the MNIST, the first Conv2D layer takes (28, 28, 1) and outputs (26, 26, 32) for 32 filters. \n",
    "\n",
    "Convolutions are defined by two key parameters:\n",
    "\n",
    "* *Size of the pathes extracted from the inputs* - typically 3\\*3 or 5\\*5.\n",
    "\n",
    "* *Depth of the output feature map* - the number of filters computed (32, 64, etc.)\n",
    "\n",
    "Convolution works by *sliding* these windows over the 3D input feature map, producing 3D patch of features (shape (window_heigth, window_width, input_depth)). Each 3D patch is transformed (by dot prodict with *convolution kernel*) into a 1D vector of shape (output_depth,). All these vectors are then spatially reassembled into a 3D output map of shape (height, width, output_depth). \n",
    "\n",
    "Output width and height may differ from those of input because of two reasons:\n",
    "\n",
    "* Border effects - countered by padding.\n",
    "\n",
    "* The use of strides."
   ]
  },
  {
   "cell_type": "markdown",
   "metadata": {},
   "source": [
    "#### *Border effects and padding*\n",
    "\n",
    "If you feel, that border effects are extremely needed, for a 3\\*3 patch add one row and one column to the each border. For a 5\\*5 patch add two rows. Argument: *padding*=['valid', 'same'], where 'valid' stands for 'no padding' and 'same' means 'make output the same height and width as input'."
   ]
  },
  {
   "cell_type": "markdown",
   "metadata": {},
   "source": [
    "#### *Convolution strides*\n",
    "\n",
    "You can not slide your window over all image one pixel by one, but rather pitch specific locations for window. E.g. using stride 2 means the width and height of the feature map are downsampled by factor of 2. Usually not used"
   ]
  },
  {
   "cell_type": "markdown",
   "metadata": {},
   "source": [
    "### The max-pooling operation\n",
    "\n",
    "Each size of the feature maps is halved after every MaxPooling2D layer (see example).\n",
    "\n",
    "Max pooling - max tensor operation over local pathces. The size of tensor is the parameter of the layer. In the example - it's extracting max in the windows of (2, 2) with stride 2.\n",
    "\n",
    "When we delete max-pooling, two things happen:\n",
    "\n",
    "1) The model isn't conducive to learning a spatial hierarchy of features because next layer learns over smaller windows of the initial image.\n",
    "\n",
    "2) The final feature map is very huge.\n",
    "\n",
    "You can use AveragePooling2D instead, or some other pooling layer, or use strides in the prior convolution layer. But usually MaxPooling is the right choice."
   ]
  },
  {
   "cell_type": "code",
   "execution_count": null,
   "metadata": {},
   "outputs": [],
   "source": []
  },
  {
   "cell_type": "markdown",
   "metadata": {},
   "source": [
    "## Training a convnet from scratch on a small dataset"
   ]
  },
  {
   "cell_type": "code",
   "execution_count": 3,
   "metadata": {},
   "outputs": [
    {
     "ename": "FileExistsError",
     "evalue": "[Errno 17] File exists: '/Users/A.Miroshnikova/Documents/Datasets/cats_vs_dogs_small'",
     "output_type": "error",
     "traceback": [
      "\u001b[0;31m---------------------------------------------------------------------------\u001b[0m",
      "\u001b[0;31mFileExistsError\u001b[0m                           Traceback (most recent call last)",
      "\u001b[0;32m<ipython-input-3-01d7216a7b96>\u001b[0m in \u001b[0;36m<module>\u001b[0;34m()\u001b[0m\n\u001b[1;32m      8\u001b[0m \u001b[0;34m\u001b[0m\u001b[0m\n\u001b[1;32m      9\u001b[0m \u001b[0mbase_dir\u001b[0m \u001b[0;34m=\u001b[0m \u001b[0;34m'/Users/A.Miroshnikova/Documents/Datasets/cats_vs_dogs_small'\u001b[0m\u001b[0;34m\u001b[0m\u001b[0m\n\u001b[0;32m---> 10\u001b[0;31m \u001b[0mos\u001b[0m\u001b[0;34m.\u001b[0m\u001b[0mmkdir\u001b[0m\u001b[0;34m(\u001b[0m\u001b[0mbase_dir\u001b[0m\u001b[0;34m)\u001b[0m\u001b[0;34m\u001b[0m\u001b[0m\n\u001b[0m\u001b[1;32m     11\u001b[0m \u001b[0;34m\u001b[0m\u001b[0m\n\u001b[1;32m     12\u001b[0m \u001b[0;31m# Make directories for sets\u001b[0m\u001b[0;34m\u001b[0m\u001b[0;34m\u001b[0m\u001b[0m\n",
      "\u001b[0;31mFileExistsError\u001b[0m: [Errno 17] File exists: '/Users/A.Miroshnikova/Documents/Datasets/cats_vs_dogs_small'"
     ]
    }
   ],
   "source": [
    "''' Dogs vs cats dataset '''\n",
    "\n",
    "# www.kaggle.com/c/dogs-vs-cats/data\n",
    "\n",
    "import os, shutil\n",
    "\n",
    "original_dataset_dir = '/Users/A.Miroshnikova/Documents/Datasets/kaggle_original/dogs_vs_cats/train'\n",
    "\n",
    "base_dir = '/Users/A.Miroshnikova/Documents/Datasets/cats_vs_dogs_small'\n",
    "os.mkdir(base_dir)\n",
    "\n",
    "# Make directories for sets\n",
    "train_dir = os.path.join(base_dir, 'train')\n",
    "os.mkdir(train_dir)\n",
    "validation_dir = os.path.join(base_dir, 'validation')\n",
    "os.mkdir(validation_dir)\n",
    "test_dir = os.path.join(base_dir, 'test')\n",
    "os.mkdir(test_dir)\n",
    "\n",
    "# Make directories for cats and dogs\n",
    "train_cats_dir = os.path.join(train_dir, 'cats')\n",
    "os.mkdir(train_cats_dir)\n",
    "\n",
    "train_dogs_dir = os.path.join(train_dir, 'dogs')\n",
    "os.mkdir(train_dogs_dir)\n",
    "\n",
    "validation_cats_dir = os.path.join(validation_dir, 'cats')\n",
    "os.mkdir(validation_cats_dir)\n",
    "\n",
    "validation_dogs_dir = os.path.join(validation_dir, 'dogs')\n",
    "os.mkdir(validation_dogs_dir)\n",
    "\n",
    "test_cats_dir = os.path.join(test_dir, 'cats')\n",
    "os.mkdir(test_cats_dir)\n",
    "\n",
    "test_dogs_dir = os.path.join(test_dir, 'dogs')\n",
    "os.mkdir(test_dogs_dir)"
   ]
  },
  {
   "cell_type": "code",
   "execution_count": 5,
   "metadata": {},
   "outputs": [],
   "source": [
    "# Copy the images\n",
    "# Cats train\n",
    "fnames = ['cat.{}.jpg'.format(i) for i in range(2000, 3000)]\n",
    "for fname in fnames:\n",
    "    src = os.path.join(original_dataset_dir, fname)\n",
    "    dst = os.path.join(train_cats_dir, fname)\n",
    "    shutil.copyfile(src, dst)\n",
    "\n",
    "# Cats validation\n",
    "fnames = ['cat.{}.jpg'.format(i) for i in range(3000, 3500)]\n",
    "for fname in fnames:\n",
    "    src = os.path.join(original_dataset_dir, fname)\n",
    "    dst = os.path.join(validation_cats_dir, fname)\n",
    "    shutil.copyfile(src, dst)\n",
    "\n",
    "# Cats test\n",
    "fnames = ['cat.{}.jpg'.format(i) for i in range(3500, 4000)]\n",
    "for fname in fnames:\n",
    "    src = os.path.join(original_dataset_dir, fname)\n",
    "    dst = os.path.join(test_cats_dir, fname)\n",
    "    shutil.copyfile(src, dst)\n",
    "\n",
    "# Dogs train\n",
    "fnames = ['dog.{}.jpg'.format(i) for i in range(2000, 3000)]\n",
    "for fname in fnames:\n",
    "    src = os.path.join(original_dataset_dir, fname)\n",
    "    dst = os.path.join(train_dogs_dir, fname)\n",
    "    shutil.copyfile(src, dst)\n",
    "\n",
    "# Dogs validation\n",
    "fnames = ['dog.{}.jpg'.format(i) for i in range(3000, 3500)]\n",
    "for fname in fnames:\n",
    "    src = os.path.join(original_dataset_dir, fname)\n",
    "    dst = os.path.join(validation_dogs_dir, fname)\n",
    "    shutil.copyfile(src, dst)\n",
    "\n",
    "# Dogs test\n",
    "fnames = ['dog.{}.jpg'.format(i) for i in range(3500, 4000)]\n",
    "for fname in fnames:\n",
    "    src = os.path.join(original_dataset_dir, fname)\n",
    "    dst = os.path.join(test_dogs_dir, fname)\n",
    "    shutil.copyfile(src, dst)"
   ]
  },
  {
   "cell_type": "code",
   "execution_count": 6,
   "metadata": {},
   "outputs": [
    {
     "name": "stdout",
     "output_type": "stream",
     "text": [
      "total training cat images: 1000\n",
      "total validation cat images: 500\n",
      "total test cat images: 500\n",
      "total training dog images: 1000\n",
      "total validation dog images: 500\n",
      "total test dog images: 500\n"
     ]
    }
   ],
   "source": [
    "# Check files\n",
    "\n",
    "print('total training cat images:', len(os.listdir(train_cats_dir)))\n",
    "print('total validation cat images:', len(os.listdir(validation_cats_dir)))\n",
    "print('total test cat images:', len(os.listdir(test_cats_dir)))\n",
    "print('total training dog images:', len(os.listdir(train_dogs_dir)))\n",
    "print('total validation dog images:', len(os.listdir(validation_dogs_dir)))\n",
    "print('total test dog images:', len(os.listdir(test_dogs_dir)))"
   ]
  },
  {
   "cell_type": "markdown",
   "metadata": {},
   "source": [
    "#### *Small convnet*\n",
    "\n",
    "We add one more layer comparing to MNIST and make classification Dense layer also bigger."
   ]
  },
  {
   "cell_type": "code",
   "execution_count": 7,
   "metadata": {},
   "outputs": [
    {
     "name": "stderr",
     "output_type": "stream",
     "text": [
      "Using Theano backend.\n"
     ]
    },
    {
     "name": "stdout",
     "output_type": "stream",
     "text": [
      "_________________________________________________________________\n",
      "Layer (type)                 Output Shape              Param #   \n",
      "=================================================================\n",
      "conv2d_1 (Conv2D)            (None, 148, 148, 32)      896       \n",
      "_________________________________________________________________\n",
      "max_pooling2d_1 (MaxPooling2 (None, 74, 74, 32)        0         \n",
      "_________________________________________________________________\n",
      "conv2d_2 (Conv2D)            (None, 72, 72, 64)        18496     \n",
      "_________________________________________________________________\n",
      "max_pooling2d_2 (MaxPooling2 (None, 36, 36, 64)        0         \n",
      "_________________________________________________________________\n",
      "conv2d_3 (Conv2D)            (None, 34, 34, 128)       73856     \n",
      "_________________________________________________________________\n",
      "max_pooling2d_3 (MaxPooling2 (None, 17, 17, 128)       0         \n",
      "_________________________________________________________________\n",
      "conv2d_4 (Conv2D)            (None, 15, 15, 128)       147584    \n",
      "_________________________________________________________________\n",
      "max_pooling2d_4 (MaxPooling2 (None, 7, 7, 128)         0         \n",
      "_________________________________________________________________\n",
      "flatten_1 (Flatten)          (None, 6272)              0         \n",
      "_________________________________________________________________\n",
      "dense_1 (Dense)              (None, 512)               3211776   \n",
      "_________________________________________________________________\n",
      "dense_2 (Dense)              (None, 1)                 513       \n",
      "=================================================================\n",
      "Total params: 3,453,121\n",
      "Trainable params: 3,453,121\n",
      "Non-trainable params: 0\n",
      "_________________________________________________________________\n"
     ]
    }
   ],
   "source": [
    "from keras import layers\n",
    "from keras import models\n",
    "\n",
    "model = models.Sequential()\n",
    "model.add(layers.Conv2D(32, (3, 3), activation='relu',\n",
    "                       input_shape=(150, 150, 3))) # preprocessing will make all images 150*150\n",
    "model.add(layers.MaxPooling2D((2, 2)))\n",
    "model.add(layers.Conv2D(64, (3, 3), activation='relu'))\n",
    "model.add(layers.MaxPooling2D((2, 2)))\n",
    "model.add(layers.Conv2D(128, (3, 3), activation='relu'))\n",
    "model.add(layers.MaxPooling2D((2, 2)))\n",
    "model.add(layers.Conv2D(128, (3, 3), activation='relu'))\n",
    "model.add(layers.MaxPooling2D((2, 2)))\n",
    "model.add(layers.Flatten())\n",
    "model.add(layers.Dense(512, activation='relu'))\n",
    "model.add(layers.Dense(1, activation='sigmoid'))\n",
    "\n",
    "model.summary()"
   ]
  },
  {
   "cell_type": "code",
   "execution_count": 8,
   "metadata": {},
   "outputs": [],
   "source": [
    "from keras import optimizers\n",
    "\n",
    "model.compile(loss='binary_crossentropy',\n",
    "              optimizer=optimizers.RMSprop(lr=1e-4),\n",
    "              metrics=['acc'])"
   ]
  },
  {
   "cell_type": "markdown",
   "metadata": {},
   "source": [
    "### *Data preprocessing*\n",
    "\n",
    "1) Read the picture files.\n",
    "\n",
    "2) Decode the JPEG content to RGB grid of pixels.\n",
    "\n",
    "3) Convert these into floating-point tensors.\n",
    "\n",
    "4) Rescale the pixel values (between 0 and 255) to the [0, 1] interval."
   ]
  },
  {
   "cell_type": "code",
   "execution_count": 14,
   "metadata": {},
   "outputs": [
    {
     "name": "stdout",
     "output_type": "stream",
     "text": [
      "Found 2000 images belonging to 2 classes.\n",
      "Found 1000 images belonging to 2 classes.\n"
     ]
    }
   ],
   "source": [
    "from keras.preprocessing.image import ImageDataGenerator\n",
    "\n",
    "train_datagen = ImageDataGenerator(rescale=1./255)\n",
    "test_datagen = ImageDataGenerator(rescale=1./255)\n",
    "\n",
    "train_generator = train_datagen.flow_from_directory(\n",
    "        train_dir,\n",
    "        target_size=(150, 150),\n",
    "        batch_size=20,\n",
    "        class_mode='binary')\n",
    "\n",
    "validation_generator = test_datagen.flow_from_directory(\n",
    "        validation_dir,\n",
    "        target_size=(150, 150),\n",
    "        batch_size=20,\n",
    "        class_mode='binary')\n"
   ]
  },
  {
   "cell_type": "code",
   "execution_count": 15,
   "metadata": {},
   "outputs": [
    {
     "name": "stdout",
     "output_type": "stream",
     "text": [
      "data batch shape: (20, 150, 150, 3)\n",
      "labels batch shape: (20,)\n"
     ]
    }
   ],
   "source": [
    "for data_batch, labels_batch in train_generator:\n",
    "    print('data batch shape:', data_batch.shape)\n",
    "    print('labels batch shape:', labels_batch.shape)\n",
    "    break"
   ]
  },
  {
   "cell_type": "markdown",
   "metadata": {},
   "source": [
    "### *Fitting the model*"
   ]
  },
  {
   "cell_type": "code",
   "execution_count": 17,
   "metadata": {},
   "outputs": [
    {
     "name": "stdout",
     "output_type": "stream",
     "text": [
      "Epoch 1/30\n",
      "100/100 [==============================] - 132s 1s/step - loss: 0.6891 - acc: 0.5245 - val_loss: 0.6681 - val_acc: 0.6210\n",
      "Epoch 2/30\n",
      "100/100 [==============================] - 133s 1s/step - loss: 0.6560 - acc: 0.6080 - val_loss: 0.6298 - val_acc: 0.6430\n",
      "Epoch 3/30\n",
      "100/100 [==============================] - 132s 1s/step - loss: 0.6195 - acc: 0.6595 - val_loss: 0.5951 - val_acc: 0.6940\n",
      "Epoch 4/30\n",
      "100/100 [==============================] - 127s 1s/step - loss: 0.5920 - acc: 0.6935 - val_loss: 0.6423 - val_acc: 0.6350\n",
      "Epoch 5/30\n",
      "100/100 [==============================] - 125s 1s/step - loss: 0.5614 - acc: 0.7075 - val_loss: 0.6569 - val_acc: 0.6260\n",
      "Epoch 6/30\n",
      "100/100 [==============================] - 131s 1s/step - loss: 0.5370 - acc: 0.7165 - val_loss: 0.5706 - val_acc: 0.7040\n",
      "Epoch 7/30\n",
      "100/100 [==============================] - 129s 1s/step - loss: 0.5072 - acc: 0.7435 - val_loss: 0.5293 - val_acc: 0.7330\n",
      "Epoch 8/30\n",
      "100/100 [==============================] - 128s 1s/step - loss: 0.4830 - acc: 0.7645 - val_loss: 0.5251 - val_acc: 0.7280\n",
      "Epoch 9/30\n",
      "100/100 [==============================] - 129s 1s/step - loss: 0.4605 - acc: 0.7785 - val_loss: 0.5319 - val_acc: 0.7220\n",
      "Epoch 10/30\n",
      "100/100 [==============================] - 129s 1s/step - loss: 0.4299 - acc: 0.7940 - val_loss: 0.5172 - val_acc: 0.7340\n",
      "Epoch 11/30\n",
      "100/100 [==============================] - 129s 1s/step - loss: 0.4110 - acc: 0.8075 - val_loss: 0.5400 - val_acc: 0.7240\n",
      "Epoch 12/30\n",
      "100/100 [==============================] - 131s 1s/step - loss: 0.3840 - acc: 0.8260 - val_loss: 0.5001 - val_acc: 0.7610\n",
      "Epoch 13/30\n",
      "100/100 [==============================] - 130s 1s/step - loss: 0.3549 - acc: 0.8455 - val_loss: 0.6025 - val_acc: 0.7140\n",
      "Epoch 14/30\n",
      "100/100 [==============================] - 134s 1s/step - loss: 0.3467 - acc: 0.8530 - val_loss: 0.5390 - val_acc: 0.7400\n",
      "Epoch 15/30\n",
      "100/100 [==============================] - 131s 1s/step - loss: 0.3204 - acc: 0.8575 - val_loss: 0.4991 - val_acc: 0.7750\n",
      "Epoch 16/30\n",
      "100/100 [==============================] - 132s 1s/step - loss: 0.3013 - acc: 0.8800 - val_loss: 0.5158 - val_acc: 0.7670\n",
      "Epoch 17/30\n",
      "100/100 [==============================] - 135s 1s/step - loss: 0.2747 - acc: 0.8880 - val_loss: 0.5358 - val_acc: 0.7640\n",
      "Epoch 18/30\n",
      "100/100 [==============================] - 132s 1s/step - loss: 0.2579 - acc: 0.8970 - val_loss: 0.5754 - val_acc: 0.7540\n",
      "Epoch 19/30\n",
      "100/100 [==============================] - 131s 1s/step - loss: 0.2339 - acc: 0.9115 - val_loss: 0.5449 - val_acc: 0.7570\n",
      "Epoch 20/30\n",
      "100/100 [==============================] - 131s 1s/step - loss: 0.2155 - acc: 0.9235 - val_loss: 0.5602 - val_acc: 0.7630\n",
      "Epoch 21/30\n",
      "100/100 [==============================] - 133s 1s/step - loss: 0.1915 - acc: 0.9325 - val_loss: 0.5705 - val_acc: 0.7720\n",
      "Epoch 22/30\n",
      "100/100 [==============================] - 133s 1s/step - loss: 0.1745 - acc: 0.9355 - val_loss: 0.5813 - val_acc: 0.7660\n",
      "Epoch 23/30\n",
      "100/100 [==============================] - 133s 1s/step - loss: 0.1584 - acc: 0.9420 - val_loss: 0.6206 - val_acc: 0.7640\n",
      "Epoch 24/30\n",
      "100/100 [==============================] - 133s 1s/step - loss: 0.1327 - acc: 0.9595 - val_loss: 0.6435 - val_acc: 0.7660\n",
      "Epoch 25/30\n",
      "100/100 [==============================] - 132s 1s/step - loss: 0.1266 - acc: 0.9515 - val_loss: 0.6901 - val_acc: 0.7560\n",
      "Epoch 26/30\n",
      "100/100 [==============================] - 131s 1s/step - loss: 0.1027 - acc: 0.9725 - val_loss: 0.8198 - val_acc: 0.7410\n",
      "Epoch 27/30\n",
      "100/100 [==============================] - 131s 1s/step - loss: 0.1033 - acc: 0.9650 - val_loss: 0.7137 - val_acc: 0.7660\n",
      "Epoch 28/30\n",
      "100/100 [==============================] - 131s 1s/step - loss: 0.0879 - acc: 0.9720 - val_loss: 0.7547 - val_acc: 0.7550\n",
      "Epoch 29/30\n",
      "100/100 [==============================] - 131s 1s/step - loss: 0.0746 - acc: 0.9800 - val_loss: 0.7283 - val_acc: 0.7580\n",
      "Epoch 30/30\n",
      "100/100 [==============================] - 132s 1s/step - loss: 0.0635 - acc: 0.9830 - val_loss: 0.7753 - val_acc: 0.7750\n"
     ]
    }
   ],
   "source": [
    "# With total of 2000 images, 20 images per batch, we need 2000/20=100 steps\n",
    "#  for generator to go over all training images.\n",
    "# For validation dataset - with 1000 images and batch size of 20 we need 1000/20=50 steps\n",
    "#  for generator to go over all validation images.\n",
    "\n",
    "history = model.fit_generator(\n",
    "    train_generator,\n",
    "    steps_per_epoch=100,\n",
    "    epochs=30,\n",
    "    validation_data=validation_generator,\n",
    "    validation_steps=50)"
   ]
  },
  {
   "cell_type": "code",
   "execution_count": 18,
   "metadata": {},
   "outputs": [],
   "source": [
    "model.save('cats_and_dogs_small_1.h5')"
   ]
  },
  {
   "cell_type": "code",
   "execution_count": 20,
   "metadata": {},
   "outputs": [
    {
     "data": {
      "image/png": "[encoded data removed]",
      "text/plain": [
       "<Figure size 432x288 with 1 Axes>"
      ]
     },
     "metadata": {},
     "output_type": "display_data"
    },
    {
     "data": {
      "image/png": "[encoded data removed]",
      "text/plain": [
       "<Figure size 432x288 with 1 Axes>"
      ]
     },
     "metadata": {},
     "output_type": "display_data"
    }
   ],
   "source": [
    "import matplotlib.pyplot as plt\n",
    "\n",
    "acc = history.history['acc']\n",
    "val_acc = history.history['val_acc']\n",
    "loss = history.history['loss']\n",
    "val_loss = history.history['val_loss']\n",
    "\n",
    "epochs = range(1, len(acc) + 1)\n",
    "\n",
    "plt.plot(epochs, acc, 'bo', label='Training accuracy')\n",
    "plt.plot(epochs, val_acc, 'b', label='Validation accuracy')\n",
    "plt.title('Training and validaion accuracy')\n",
    "plt.xlabel('Epochs')\n",
    "plt.ylabel('Accuracy')\n",
    "plt.legend()\n",
    "\n",
    "plt.figure()\n",
    "\n",
    "plt.plot(epochs, loss, 'go', label='Training loss')\n",
    "plt.plot(epochs, val_loss, 'g', label='Validation loss')\n",
    "plt.title('Training and validaion loss')\n",
    "plt.xlabel('Epochs')\n",
    "plt.ylabel('Loss')\n",
    "plt.legend()\n",
    "\n",
    "plt.show()"
   ]
  },
  {
   "cell_type": "code",
   "execution_count": null,
   "metadata": {},
   "outputs": [],
   "source": []
  }
 ],
 "metadata": {
  "kernelspec": {
   "display_name": "Python 3",
   "language": "python",
   "name": "python3"
  },
  "language_info": {
   "codemirror_mode": {
    "name": "ipython",
    "version": 3
   },
   "file_extension": ".py",
   "mimetype": "text/x-python",
   "name": "python",
   "nbconvert_exporter": "python",
   "pygments_lexer": "ipython3",
   "version": "3.6.6"
  }
 },
 "nbformat": 4,
 "nbformat_minor": 2
}
